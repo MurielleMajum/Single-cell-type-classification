{
 "cells": [
  {
   "cell_type": "code",
   "execution_count": 24,
   "id": "61c72fc4-4177-438c-90af-9b06280c2b0d",
   "metadata": {},
   "outputs": [],
   "source": [
    "import matplotlib.pyplot as plt\n",
    "import pandas as pd\n",
    "import numpy as np\n",
    "import scanpy as sc"
   ]
  },
  {
   "cell_type": "markdown",
   "id": "e4b45404-6a30-4065-a36f-d08fa460e382",
   "metadata": {},
   "source": [
    "(data-camp) C:\\Users\\maixe\\OneDrive\\Documents\\M2 DS\\DATACAMP\\data-camp-single-cell-scmark-classification-october-2023-gabriel_traore> cd C:\\Users\\maixe\\OneDrive\\Documents\\M2 DS\\DATACAMP\\data-camp-single-cell-scmark-classification-october-2023-gabriel_traore\\submissions\\SELEC_2   \n",
    "## Pour lancer le test"
   ]
  },
  {
   "cell_type": "code",
   "execution_count": 25,
   "id": "7171fdf9-7d07-4cbc-99a5-ce6b24f6af4f",
   "metadata": {},
   "outputs": [
    {
     "data": {
      "text/plain": [
       "(               label\n",
       " count           1000\n",
       " unique             4\n",
       " top     T_cells_CD8+\n",
       " freq             342,\n",
       " (500, 13551),\n",
       " (500,))"
      ]
     },
     "execution_count": 25,
     "metadata": {},
     "output_type": "execute_result"
    }
   ],
   "source": [
    "from problem import get_train_data, get_test_data\n",
    "X_train, y_train = get_train_data()\n",
    "X_test, y_test = get_test_data()\n",
    "\n",
    "lab_df = pd.DataFrame({'label': y_train})\n",
    "lab_df.value_counts(normalize=True)\n",
    "\n",
    "lab_df.describe(), X_test.shape, y_test.shape"
   ]
  },
  {
   "cell_type": "code",
   "execution_count": null,
   "id": "1ae7b19d-f70e-4023-9d80-6e444c085c2c",
   "metadata": {},
   "outputs": [],
   "source": []
  },
  {
   "cell_type": "code",
   "execution_count": 26,
   "id": "75eef188-6cfd-4822-8a8a-8075a72817cb",
   "metadata": {},
   "outputs": [
    {
     "data": {
      "text/plain": [
       "(True,\n",
       " array([[0.00016123, 0.        , 0.        , ..., 0.00032246, 0.00025555,\n",
       "         0.        ],\n",
       "        [0.        , 0.        , 0.        , ..., 0.        , 0.        ,\n",
       "         0.        ],\n",
       "        [0.        , 0.        , 0.        , ..., 0.        , 0.        ,\n",
       "         0.        ],\n",
       "        ...,\n",
       "        [0.0003768 , 0.        , 0.        , ..., 0.        , 0.        ,\n",
       "         0.        ],\n",
       "        [0.        , 0.        , 0.        , ..., 0.00050598, 0.        ,\n",
       "         0.        ],\n",
       "        [0.        , 0.        , 0.        , ..., 0.        , 0.        ,\n",
       "         0.        ]], dtype=float32))"
      ]
     },
     "execution_count": 26,
     "metadata": {},
     "output_type": "execute_result"
    }
   ],
   "source": [
    "def preprocess_X(X):\n",
    "    X = X.toarray()\n",
    "    X = sc.pp.log1p(X) # AJOUT\n",
    "    #X = np.log1p(X)\n",
    "    return X / X.sum(axis=1)[:, np.newaxis]\n",
    "\n",
    "X_train_norm = preprocess_X(X_train)\n",
    "X_test_norm = preprocess_X(X_test)\n",
    "# sanity check\n",
    "np.allclose(X_train_norm.sum(axis=1), np.ones(X_train_norm.shape[0])), X_train_norm"
   ]
  },
  {
   "cell_type": "code",
   "execution_count": 27,
   "id": "07409c33-4777-4568-8c8f-448d2103b38f",
   "metadata": {},
   "outputs": [
    {
     "name": "stdout",
     "output_type": "stream",
     "text": [
      "Note: you may need to restart the kernel to use updated packages.Requirement already satisfied: scikit-learn in c:\\users\\astri\\anaconda3\\envs\\data-camp\\lib\\site-packages (1.3.2)\n",
      "Requirement already satisfied: numpy<2.0,>=1.17.3 in c:\\users\\astri\\anaconda3\\envs\\data-camp\\lib\\site-packages (from scikit-learn) (1.26.2)\n",
      "Requirement already satisfied: scipy>=1.5.0 in c:\\users\\astri\\anaconda3\\envs\\data-camp\\lib\\site-packages (from scikit-learn) (1.11.3)\n",
      "Requirement already satisfied: joblib>=1.1.1 in c:\\users\\astri\\anaconda3\\envs\\data-camp\\lib\\site-packages (from scikit-learn) (1.3.2)\n",
      "Requirement already satisfied: threadpoolctl>=2.0.0 in c:\\users\\astri\\anaconda3\\envs\\data-camp\\lib\\site-packages (from scikit-learn) (3.2.0)\n",
      "\n"
     ]
    }
   ],
   "source": [
    "pip install scikit-learn"
   ]
  },
  {
   "cell_type": "code",
   "execution_count": 28,
   "id": "b2d2e2f6-6697-4a31-a10b-381c46d02705",
   "metadata": {},
   "outputs": [],
   "source": [
    "##The score function\n",
    "from sklearn.metrics import balanced_accuracy_score\n",
    "from problem import BalancedAccuracy\n",
    "from sklearn.model_selection import GridSearchCV\n",
    "\n",
    "from sklearn.pipeline import Pipeline\n",
    "from sklearn.pipeline import make_pipeline\n",
    "from sklearn.preprocessing import StandardScaler\n",
    "from sklearn.decomposition import PCA\n",
    "from sklearn.ensemble import RandomForestClassifier #0.60\n",
    "from sklearn.svm import SVC # 0.75\n",
    "from sklearn.neighbors import KNeighborsClassifier #0.69\n",
    "from sklearn.tree import DecisionTreeClassifier # 0.63\n",
    "from sklearn.ensemble import BaggingClassifier # 0.66\n",
    "from sklearn.tree import ExtraTreeClassifier # 0.578\n",
    "from sklearn.neural_network import MLPClassifier #0.76\n",
    "from sklearn.ensemble import GradientBoostingClassifier #0.684\n",
    "\n",
    "from sklearn.metrics import confusion_matrix\n",
    "from sklearn.metrics import ConfusionMatrixDisplay\n",
    "from sklearn.model_selection import StratifiedKFold\n",
    "from sklearn.ensemble import StackingClassifier\n",
    "from sklearn.model_selection import train_test_split\n",
    "from sklearn.decomposition import TruncatedSVD\n"
   ]
  },
  {
   "cell_type": "code",
   "execution_count": null,
   "id": "e80e9c5f-94ff-49fc-830b-862857c3a52d",
   "metadata": {},
   "outputs": [],
   "source": []
  },
  {
   "cell_type": "code",
   "execution_count": 29,
   "id": "66982347-dd8f-4a10-bb02-7155ade3f805",
   "metadata": {},
   "outputs": [],
   "source": [
    "## SVC PCA RF MLP"
   ]
  },
  {
   "cell_type": "raw",
   "id": "09e00431-3e35-4761-a68b-23f2779d659c",
   "metadata": {},
   "source": [
    "\n",
    "# Define base models\n",
    "base_models = [\n",
    "    ('pca_svc', make_pipeline(StandardScaler(with_mean=False), TruncatedSVD(n_components=12), SVC(kernel='linear', C=1.0))),\n",
    "    ('rf', make_pipeline(StandardScaler(with_mean=False), TruncatedSVD(n_components=85), RandomForestClassifier(n_estimators=100,max_features=3))),\n",
    "    ('knn', make_pipeline(StandardScaler(with_mean=False), TruncatedSVD(n_components=75), KNeighborsClassifier(n_neighbors=5))),\n",
    "    #('gb', make_pipeline(StandardScaler(with_mean=False),TruncatedSVD(n_components=50), GradientBoostingClassifier(n_estimators=100, learning_rate=0.1, max_depth=3))),\n",
    "    ('mlp', make_pipeline(StandardScaler(with_mean=False), TruncatedSVD(n_components=65), MLPClassifier(hidden_layer_sizes=(100, 50), activation='relu', solver='adam', max_iter=1000))),\n",
    "]\n",
    "\n",
    "# Define the meta-model\n",
    "meta_model = MLPClassifier(hidden_layer_sizes=(100, 50), activation='relu', solver='adam', max_iter=1000)\n",
    "\n",
    "# Create the stacking classifier\n",
    "stacking_clf = StackingClassifier(estimators=base_models, final_estimator=meta_model)\n",
    "\n",
    "# Train the stacking classifier\n",
    "stacking_clf.fit(X_train_norm, y_train)\n",
    "\n",
    "# Predict on the test set\n",
    "y_te_pred_stacking = stacking_clf.predict(X_test_norm)\n",
    "\n",
    "# Compute balanced accuracy and confusion matrix for the stacking model\n",
    "print(f\"Stacking model balanced accuracy on test set: {balanced_accuracy_score(y_test, y_te_pred_stacking):.3f}\")\n",
    "cm_stacking = confusion_matrix(y_test, y_te_pred_stacking)\n",
    "disp_stacking = ConfusionMatrixDisplay(confusion_matrix=cm_stacking, display_labels=np.unique(y_test))\n",
    "disp_stacking.plot()\n",
    "plt.title(\"Confusion matrix Stacking on test set\")\n",
    "plt.show()\n"
   ]
  },
  {
   "cell_type": "code",
   "execution_count": 30,
   "id": "02bfb613-400e-4b77-b7e8-f6ed78bbdf08",
   "metadata": {},
   "outputs": [
    {
     "name": "stdout",
     "output_type": "stream",
     "text": [
      "Stacking model balanced accuracy on test set: 0.768\n"
     ]
    },
    {
     "data": {
      "image/png": "[encoded data removed]",
      "text/plain": [
       "<Figure size 640x480 with 2 Axes>"
      ]
     },
     "metadata": {},
     "output_type": "display_data"
    }
   ],
   "source": [
    "# Define base models\n",
    "base_models = [\n",
    "    #('pca_svc', make_pipeline(StandardScaler(with_mean=True, with_std=True), PCA(n_components=70), SVC(kernel='linear', C=1.0))),\n",
    "    ('rf', make_pipeline(StandardScaler(with_mean=True, with_std=True), PCA(n_components=85), RandomForestClassifier(n_estimators=50,max_features=3))),\n",
    "    #('knn', make_pipeline(TruncatedSVD(n_components=20),KNeighborsClassifier(n_neighbors=5))),\n",
    "    ('mlp', make_pipeline(StandardScaler(with_mean=True, with_std=True), TruncatedSVD(n_components=120), MLPClassifier(hidden_layer_sizes=(100, 50), activation='relu', solver='adam', max_iter=1000))),\n",
    "]\n",
    "\n",
    "# Define the meta-model\n",
    "meta_model = MLPClassifier(hidden_layer_sizes=(64, 64), activation='relu', solver='adam', max_iter=1000)\n",
    "\n",
    "# Create the stacking classifier\n",
    "stacking_clf = StackingClassifier(estimators=base_models, final_estimator=meta_model)\n",
    "\n",
    "# Define the overall pipeline\n",
    "pipeline = Pipeline([\n",
    "    ('preprocess', StandardScaler(with_mean=True, with_std=True)),  # You can add any preprocessing steps here\n",
    "    ('stacking', stacking_clf)\n",
    "])\n",
    "\n",
    "'''\n",
    "# StandardScaler with_mean=False for sparse matrix\n",
    "scaler = StandardScaler(with_mean=False)\n",
    "\n",
    "# Fit and transform the sparse matrix\n",
    "X = X_train.toarray()\n",
    "X = sc.pp.log1p(X)\n",
    "X_scaled = scaler.fit_transform(X_train)\n",
    "X_scaled_test = scaler.fit_transform(X_test)\n",
    "'''\n",
    "\n",
    "# Train the pipeline\n",
    "pipeline.fit(X_train_norm, y_train)\n",
    "\n",
    "# Predict on the test set\n",
    "y_te_pred_stacking = pipeline.predict(X_test_norm)\n",
    "\n",
    "# Compute balanced accuracy and confusion matrix for the stacking model\n",
    "print(f\"Stacking model balanced accuracy on test set: {balanced_accuracy_score(y_test, y_te_pred_stacking):.3f}\")\n",
    "cm_stacking = confusion_matrix(y_test, y_te_pred_stacking)\n",
    "disp_stacking = ConfusionMatrixDisplay(confusion_matrix=cm_stacking, display_labels=np.unique(y_test))\n",
    "disp_stacking.plot()\n",
    "plt.title(\"Confusion matrix Stacking on test set\")\n",
    "plt.show()"
   ]
  },
  {
   "cell_type": "code",
   "execution_count": 31,
   "id": "f3b92887-41b7-4dca-a400-ffd28805fccd",
   "metadata": {},
   "outputs": [],
   "source": [
    "## from sklearn.feature_selection import VarianceThreshold\n",
    "\n",
    "def select_features_by_variance(X, threshold=0.1):\n",
    "    \"\"\"\n",
    "    Sélectionne les caractéristiques dont la variance est supérieure au seuil spécifié.\n",
    "    :param X: données d'entrée (caractéristiques).\n",
    "    :param threshold: seuil de variance pour la sélection des caractéristiques.\n",
    "    :return: X filtré avec seulement les caractéristiques sélectionnées.\n",
    "    \"\"\"\n",
    "    selector = VarianceThreshold(threshold)\n",
    "    X_selected = selector.fit_transform(X)\n",
    "    return X_selected, selector.get_support(indices=True)\n"
   ]
  },
  {
   "cell_type": "code",
   "execution_count": null,
   "id": "0ffa8ffe-dffd-41a8-90b3-c0d8ac6e8f11",
   "metadata": {},
   "outputs": [],
   "source": []
  },
  {
   "cell_type": "code",
   "execution_count": 32,
   "id": "63cd9223-e93d-4643-90c6-8ef771af2dc1",
   "metadata": {},
   "outputs": [],
   "source": [
    "from sklearn.model_selection import GridSearchCV\n",
    "from sklearn.pipeline import make_pipeline\n",
    "\n",
    "# Define the hyperparameter grid\n",
    "param_grid = {\n",
    "    'pca_svc__truncatedsvd__n_components': [10, 20, 30],\n",
    "    'pca_svc__svc__C': [0.1, 1.0, 10.0],\n",
    "    'rf__truncatedsvd__n_components': [50, 75, 100],\n",
    "    'rf__randomforestclassifier__n_estimators': [50, 100, 200],\n",
    "    'rf__randomforestclassifier__max_features': [2, 3, 4],\n",
    "    'meta_model__hidden_layer_sizes': [(100, 50), (50, 25), (150, 100)],\n",
    "    'meta_model__activation': ['relu', 'tanh'],\n",
    "    'meta_model__solver': ['adam', 'lbfgs'],\n",
    "    'meta_model__max_iter': [1000, 1500, 2000]\n",
    "}"
   ]
  },
  {
   "cell_type": "markdown",
   "id": "c15505bd-d426-4893-914b-be6fcf3a71f9",
   "metadata": {},
   "source": [
    "utiliser la selection des variable // construction des features, prédire en biclasse"
   ]
  },
  {
   "cell_type": "code",
   "execution_count": 33,
   "id": "24d0490b-c8a8-41a8-9e79-74b092a4eee3",
   "metadata": {},
   "outputs": [
    {
     "name": "stdout",
     "output_type": "stream",
     "text": [
      "[2 2 2 2 3 2 0 0 1 3 2 2 0 0 0 2 0 2 0 0 2 1 3 0 3 2 2 0 0 3 2 2 3 3 2 1 2\n",
      " 2 3 1 3 3 2 3 3 3 2 2 3 2 3 3 3 0 2 2 2 2 3 0 2 3 3 0 3 0 0 3 3 0 3 0 3 3\n",
      " 3 2 0 2 2 3 3 0 2 3 0 1 2 0 3 3 2 2 3 3 0 3 0 1 0 1 1 3 3 0 2 2 0 2 3 0 3\n",
      " 3 2 2 2 0 2 1 1 3 1 2 3 3 2 2 0 2 3 3 0 2 1 3 3 0 0 2 2 3 3 3 2 2 3 2 2 1\n",
      " 2 3 0 3 0 0 0 3 3 2 3 2 0 3 3 3 2 2 3 0 0 1 0 3 0 3 2 2 0 1 0 3 2 3 2 3 1\n",
      " 1 3 3 0 2 2 0 3 0 0 0 0 2 3 0 2 3 0 3 2 0 1 3 0 3 3 3 3 0 0 2 2 0 0 0 0 2\n",
      " 2 1 3 3 1 3 3 0 0 2 0 0 1 3 0 0 3 2 3 3 3 3 2 1 3 2 2 3 2 2 0 2 3 0 3 3 1\n",
      " 0 3 3 0 2 3 0 3 3 2 3 3 0 3 2 2 3 0 0 2 0 2 3 2 0 2 2 0 0 3 0 0 3 0 2 2 3\n",
      " 3 2 1 3 3 3 2 0 0 2 2 3 0 3 2 3 3 1 3 3 2 2 3 2 0 0 3 3 2 0 3 3 3 0 3 3 1\n",
      " 1 2 3 3 3 1 1 3 3 3 2 3 0 2 0 3 2 2 2 2 2 3 2 2 2 3 2 2 1 3 0 0 2 3 2 3 0\n",
      " 3 2 2 2 3 3 0 3 3 2 0 3 3 3 2 3 2 2 3 2 0 2 3 2 1 3 3 2 2 2 0 2 3 3 3 0 2\n",
      " 0 2 3 3 0 0 3 3 2 2 0 2 3 0 2 2 2 1 3 0 2 1 0 0 2 2 0 3 2 2 0 2 0 3 0 3 3\n",
      " 3 0 2 1 2 0 2 3 2 0 0 3 0 2 2 0 3 2 3 3 2 2 1 1 2 3 3 3 2 0 0 0 3 2 2 3 2\n",
      " 3 3 2 2 2 2 2 2 0 0 0 2 2 3 0 2 0 3 2 3 3 2 0 2 3 1 0 3 3 3 0 3 2 3 2 0 0\n",
      " 3 1 0 3 2 3 1 2 2 2 0 3 2 0 0 2 1 0 3 0 2 3 3 0 2 2 2 3 2 2 3 3 2 0 3 3 3\n",
      " 2 1 3 2 3 3 0 3 3 1 3 2 0 2 3 2 3 0 2 2 0 0 0 2 0 2 3 0 0 0 2 1 0 0 0 2 1\n",
      " 0 0 3 2 2 3 1 3 2 1 2 1 0 2 3 0 3 2 3 3 2 3 2 1 3 2 2 3 2 2 0 0 1 1 3 2 2\n",
      " 3 2 0 1 2 2 3 2 0 0 2 2 0 2 0 2 3 3 2 3 1 1 2 3 3 2 3 2 2 3 2 2 2 3 1 3 3\n",
      " 3 3 3 2 0 0 2 2 3 2 0 3 0 2 3 1 3 3 1 2 0 3 2 0 2 2 3 2 3 2 2 2 0 0 3 0 2\n",
      " 0 1 2 3 2 0 1 3 3 0 1 0 0 0 0 2 0 2 2 2 0 1 2 1 2 0 2 0 3 3 0 3 3 3 0 2 3\n",
      " 3 3 3 3 2 2 3 2 0 2 2 0 2 3 0 0 0 2 2 0 2 1 3 0 3 1 0 3 1 3 2 2 3 3 2 2 0\n",
      " 2 1 3 0 2 3 2 3 1 3 3 0 0 2 1 1 1 2 3 2 2 3 0 0 3 3 3 0 0 3 3 2 2 3 0 3 2\n",
      " 3 2 2 0 2 2 3 3 3 2 3 3 2 2 2 1 2 3 3 0 0 2 2 3 0 3 2 2 0 3 0 3 3 3 3 2 2\n",
      " 0 3 2 2 0 3 3 3 2 2 2 3 3 3 3 0 0 0 3 2 0 1 2 0 0 3 2 3 2 2 1 3 3 3 0 3 1\n",
      " 0 2 3 2 2 3 1 2 2 3 0 3 3 3 2 2 0 0 2 2 0 2 3 2 2 1 2 3 0 1 2 3 3 3 0 3 2\n",
      " 0 1 3 3 3 3 3 1 2 3 3 1 2 2 2 2 3 0 3 1 0 3 1 3 2 0 2 0 0 2 1 0 2 2 2 2 2\n",
      " 2 0 3 3 0 0 3 1 1 0 3 0 3 2 2 2 2 3 2 2 3 0 1 2 3 2 0 3 3 0 2 2 2 2 3 2 3\n",
      " 3]\n"
     ]
    }
   ],
   "source": [
    "##encoder les variables catégoricielles\n",
    "\n",
    "from sklearn.preprocessing import LabelEncoder\n",
    "\n",
    "# Créer une instance de LabelEncoder\n",
    "label_encoder = LabelEncoder()\n",
    "\n",
    "# Appliquer l'encodage aux données\n",
    "y_train_encoded = label_encoder.fit_transform(y_train)\n",
    "\n",
    "# Afficher les premières lignes de la série encodée\n",
    "print(y_train_encoded)\n"
   ]
  },
  {
   "cell_type": "code",
   "execution_count": 34,
   "id": "564dd30f-8786-46f1-844f-b74f897d568a",
   "metadata": {},
   "outputs": [
    {
     "name": "stdout",
     "output_type": "stream",
     "text": [
      "[2 2 2 2 3 2 0 0 1 3 2 2 0 0 0 2 0 2 0 0 2 1 3 0 3 2 2 0 0 3 2 2 3 3 2 1 2\n",
      " 2 3 1 3 3 2 3 3 3 2 2 3 2 3 3 3 0 2 2 2 2 3 0 2 3 3 0 3 0 0 3 3 0 3 0 3 3\n",
      " 3 2 0 2 2 3 3 0 2 3 0 1 2 0 3 3 2 2 3 3 0 3 0 1 0 1 1 3 3 0 2 2 0 2 3 0 3\n",
      " 3 2 2 2 0 2 1 1 3 1 2 3 3 2 2 0 2 3 3 0 2 1 3 3 0 0 2 2 3 3 3 2 2 3 2 2 1\n",
      " 2 3 0 3 0 0 0 3 3 2 3 2 0 3 3 3 2 2 3 0 0 1 0 3 0 3 2 2 0 1 0 3 2 3 2 3 1\n",
      " 1 3 3 0 2 2 0 3 0 0 0 0 2 3 0 2 3 0 3 2 0 1 3 0 3 3 3 3 0 0 2 2 0 0 0 0 2\n",
      " 2 1 3 3 1 3 3 0 0 2 0 0 1 3 0 0 3 2 3 3 3 3 2 1 3 2 2 3 2 2 0 2 3 0 3 3 1\n",
      " 0 3 3 0 2 3 0 3 3 2 3 3 0 3 2 2 3 0 0 2 0 2 3 2 0 2 2 0 0 3 0 0 3 0 2 2 3\n",
      " 3 2 1 3 3 3 2 0 0 2 2 3 0 3 2 3 3 1 3 3 2 2 3 2 0 0 3 3 2 0 3 3 3 0 3 3 1\n",
      " 1 2 3 3 3 1 1 3 3 3 2 3 0 2 0 3 2 2 2 2 2 3 2 2 2 3 2 2 1 3 0 0 2 3 2 3 0\n",
      " 3 2 2 2 3 3 0 3 3 2 0 3 3 3 2 3 2 2 3 2 0 2 3 2 1 3 3 2 2 2 0 2 3 3 3 0 2\n",
      " 0 2 3 3 0 0 3 3 2 2 0 2 3 0 2 2 2 1 3 0 2 1 0 0 2 2 0 3 2 2 0 2 0 3 0 3 3\n",
      " 3 0 2 1 2 0 2 3 2 0 0 3 0 2 2 0 3 2 3 3 2 2 1 1 2 3 3 3 2 0 0 0 3 2 2 3 2\n",
      " 3 3 2 2 2 2 2 2 0 0 0 2 2 3 0 2 0 3 2 3 3 2 0 2 3 1 0 3 3 3 0 3 2 3 2 0 0\n",
      " 3 1 0 3 2 3 1 2 2 2 0 3 2 0 0 2 1 0 3 0 2 3 3 0 2 2 2 3 2 2 3 3 2 0 3 3 3\n",
      " 2 1 3 2 3 3 0 3 3 1 3 2 0 2 3 2 3 0 2 2 0 0 0 2 0 2 3 0 0 0 2 1 0 0 0 2 1\n",
      " 0 0 3 2 2 3 1 3 2 1 2 1 0 2 3 0 3 2 3 3 2 3 2 1 3 2 2 3 2 2 0 0 1 1 3 2 2\n",
      " 3 2 0 1 2 2 3 2 0 0 2 2 0 2 0 2 3 3 2 3 1 1 2 3 3 2 3 2 2 3 2 2 2 3 1 3 3\n",
      " 3 3 3 2 0 0 2 2 3 2 0 3 0 2 3 1 3 3 1 2 0 3 2 0 2 2 3 2 3 2 2 2 0 0 3 0 2\n",
      " 0 1 2 3 2 0 1 3 3 0 1 0 0 0 0 2 0 2 2 2 0 1 2 1 2 0 2 0 3 3 0 3 3 3 0 2 3\n",
      " 3 3 3 3 2 2 3 2 0 2 2 0 2 3 0 0 0 2 2 0 2 1 3 0 3 1 0 3 1 3 2 2 3 3 2 2 0\n",
      " 2 1 3 0 2 3 2 3 1 3 3 0 0 2 1 1 1 2 3 2 2 3 0 0 3 3 3 0 0 3 3 2 2 3 0 3 2\n",
      " 3 2 2 0 2 2 3 3 3 2 3 3 2 2 2 1 2 3 3 0 0 2 2 3 0 3 2 2 0 3 0 3 3 3 3 2 2\n",
      " 0 3 2 2 0 3 3 3 2 2 2 3 3 3 3 0 0 0 3 2 0 1 2 0 0 3 2 3 2 2 1 3 3 3 0 3 1\n",
      " 0 2 3 2 2 3 1 2 2 3 0 3 3 3 2 2 0 0 2 2 0 2 3 2 2 1 2 3 0 1 2 3 3 3 0 3 2\n",
      " 0 1 3 3 3 3 3 1 2 3 3 1 2 2 2 2 3 0 3 1 0 3 1 3 2 0 2 0 0 2 1 0 2 2 2 2 2\n",
      " 2 0 3 3 0 0 3 1 1 0 3 0 3 2 2 2 2 3 2 2 3 0 1 2 3 2 0 3 3 0 2 2 2 2 3 2 3\n",
      " 3]\n"
     ]
    }
   ],
   "source": [
    "def encode_categorical_variables(data):\n",
    "    # Créer une instance de LabelEncoder\n",
    "    label_encoder = LabelEncoder()\n",
    "\n",
    "    # Appliquer l'encodage aux données\n",
    "    encoded_data = label_encoder.fit_transform(data)\n",
    "\n",
    "    return encoded_data\n",
    "\n",
    "# Exemple d'utilisation sur votre ensemble de données y_train\n",
    "y_train_encoded = encode_categorical_variables(y_train)\n",
    "\n",
    "# Afficher les premières lignes de la série encodée\n",
    "print(y_train_encoded)"
   ]
  },
  {
   "cell_type": "code",
   "execution_count": 35,
   "id": "a6a90e61-5eea-43bd-8555-b243fc15ee0b",
   "metadata": {
    "scrolled": true
   },
   "outputs": [
    {
     "name": "stdout",
     "output_type": "stream",
     "text": [
      "  (0, 0)\t167.0\n",
      "  (0, 2)\t9.0\n",
      "  (0, 7)\t1.0\n",
      "  (0, 8)\t9.0\n",
      "  (0, 10)\t36.0\n",
      "  (0, 11)\t152.0\n",
      "  (0, 12)\t17.0\n",
      "  (0, 13)\t8.0\n",
      "  (0, 14)\t12.0\n",
      "  (0, 16)\t2.0\n",
      "  (0, 17)\t12.0\n",
      "  (0, 18)\t1.0\n",
      "  (0, 19)\t8.0\n",
      "  (0, 20)\t33.0\n",
      "  (0, 21)\t17.0\n",
      "  (0, 22)\t17.0\n",
      "  (0, 25)\t17.0\n",
      "  (0, 27)\t2.0\n",
      "  (0, 28)\t2.0\n",
      "  (0, 30)\t2.0\n",
      "  (0, 71)\t6.0\n",
      "  (0, 31)\t4.0\n",
      "  (0, 32)\t10.0\n",
      "  (0, 33)\t128.0\n",
      "  (0, 34)\t9.0\n",
      "  :\t:\n",
      "  (999, 72)\t3.0\n",
      "  (999, 67)\t3.0\n",
      "  (999, 53)\t1.0\n",
      "  (999, 52)\t8.0\n",
      "  (999, 45)\t1.0\n",
      "  (999, 42)\t2.0\n",
      "  (999, 41)\t4.0\n",
      "  (999, 40)\t2.0\n",
      "  (999, 36)\t1.0\n",
      "  (999, 35)\t1.0\n",
      "  (999, 34)\t1.0\n",
      "  (999, 32)\t3.0\n",
      "  (999, 30)\t8.0\n",
      "  (999, 28)\t1.0\n",
      "  (999, 22)\t4.0\n",
      "  (999, 20)\t1.0\n",
      "  (999, 19)\t2.0\n",
      "  (999, 17)\t1.0\n",
      "  (999, 16)\t2.0\n",
      "  (999, 15)\t2.0\n",
      "  (999, 13)\t6.0\n",
      "  (999, 11)\t13.0\n",
      "  (999, 8)\t1.0\n",
      "  (999, 1)\t1.0\n",
      "  (999, 0)\t6.0\n"
     ]
    },
    {
     "name": "stderr",
     "output_type": "stream",
     "text": [
      "C:\\Users\\astri\\anaconda3\\envs\\data-camp\\lib\\site-packages\\sklearn\\linear_model\\_coordinate_descent.py:589: ConvergenceWarning: Objective did not converge. You might want to increase the number of iterations. Duality gap: 56.926456451416016, tolerance: 0.13279110193252563\n",
      "  model = cd_fast.sparse_enet_coordinate_descent(\n"
     ]
    },
    {
     "data": {
      "text/plain": [
       "((1000, 13551), (1000, 170), (1000,), (1000,))"
      ]
     },
     "execution_count": 35,
     "metadata": {},
     "output_type": "execute_result"
    }
   ],
   "source": [
    "# Importation des bibliothèques nécessaires\n",
    "from sklearn.linear_model import Lasso\n",
    "from sklearn.feature_selection import RFE\n",
    "from sklearn.ensemble import RandomForestClassifier\n",
    "from sklearn.datasets import make_classification\n",
    "import numpy as np\n",
    "\n",
    "# 1. LASSO\n",
    "lasso_model = Lasso(alpha=0.05)  # alpha contrôle la force de la pénalité\n",
    "lasso_model.fit(X_train, y_train_encoded) ## le lasso prend en compte les valeurs numérique, et c'est la raison poiur laquelle on a encodé les données y_train\n",
    "lasso_selected_features = np.where(lasso_model.coef_ != 0)[0]\n",
    "#print(\"Variables sélectionnées par LASSO:\", lasso_selected_features)\n",
    "\n",
    "# 2. Sélection des variables\n",
    "X_train_selected=X_train[:, lasso_selected_features]\n",
    "X_test_selected=X_test[:, lasso_selected_features]\n",
    "\n",
    "# Afficher \n",
    "print(X_train_selected)\n",
    "X_train.shape, X_train_selected.shape, y_train.shape, y_train_encoded.shape"
   ]
  },
  {
   "cell_type": "code",
   "execution_count": 36,
   "id": "77ea624d-a154-4450-9b8a-b8a1b83dcf36",
   "metadata": {},
   "outputs": [
    {
     "name": "stdout",
     "output_type": "stream",
     "text": [
      "Variables sélectionnées par l'importance des variables avec les forêts aléatoires: [ 1829  1949  1827 ... 10060  5206  6775]\n"
     ]
    },
    {
     "data": {
      "text/plain": [
       "<1000x10 sparse matrix of type '<class 'numpy.float32'>'\n",
       "\twith 4938 stored elements in Compressed Sparse Row format>"
      ]
     },
     "execution_count": 36,
     "metadata": {},
     "output_type": "execute_result"
    }
   ],
   "source": [
    "#########################################################\"\n",
    "# 3. Importance des variables avec les forêts aléatoires\n",
    "rf_model = RandomForestClassifier(n_estimators=100, random_state=42)\n",
    "rf_model.fit(X_train, y_train_encoded)\n",
    "importance = rf_model.feature_importances_\n",
    "\n",
    "# Triez les indices des variables par importance décroissante\n",
    "rf_selected_features = np.argsort(importance)[::-1]\n",
    "\n",
    "print(\"Variables sélectionnées par l'importance des variables avec les forêts aléatoires:\", rf_selected_features)\n",
    "# Sélection des 10 premières variables importantes (par exemple)\n",
    "top_features_indices = rf_selected_features[:10]\n",
    "X_train_selected_ = X_train[:, top_features_indices]\n",
    "X_train_selected_"
   ]
  },
  {
   "cell_type": "code",
   "execution_count": null,
   "id": "655eeb0e-29f2-4650-ae29-3a714783df34",
   "metadata": {},
   "outputs": [],
   "source": []
  },
  {
   "cell_type": "markdown",
   "id": "4719ff38-f3a3-40bb-ac9b-7139fd9d1b6b",
   "metadata": {},
   "source": [
    "## apres la selection de variables LASSO"
   ]
  },
  {
   "cell_type": "code",
   "execution_count": 37,
   "id": "2d8694e6-b257-4df4-8572-4a43982acc1f",
   "metadata": {},
   "outputs": [
    {
     "name": "stdout",
     "output_type": "stream",
     "text": [
      "Stacking model balanced accuracy on test set: 0.829\n"
     ]
    },
    {
     "data": {
      "image/png": "[encoded data removed]",
      "text/plain": [
       "<Figure size 640x480 with 2 Axes>"
      ]
     },
     "metadata": {},
     "output_type": "display_data"
    }
   ],
   "source": [
    "# Define base models\n",
    "base_models = [\n",
    "    #('pca_svc', make_pipeline( PCA(n_components=50), SVC(kernel='linear', C=1.0))),\n",
    "    ('rf', make_pipeline(PCA(n_components=85), RandomForestClassifier(n_estimators=50,max_features=3))),\n",
    "    #('knn', make_pipeline(TruncatedSVD(n_components=20),KNeighborsClassifier(n_neighbors=5))),\n",
    "    ('mlp', make_pipeline(StandardScaler(with_mean=False), PCA(n_components=50), MLPClassifier(hidden_layer_sizes=(128, 64), activation='relu', solver='adam', max_iter=1000))),\n",
    "]\n",
    "\n",
    "# Define the meta-model\n",
    "meta_model = MLPClassifier(hidden_layer_sizes=(64, 64), activation='relu', solver='adam', max_iter=1000)\n",
    "\n",
    "# Create the stacking classifier\n",
    "stacking_clf = StackingClassifier(estimators=base_models, final_estimator=meta_model)\n",
    "\n",
    "# Define the overall pipeline\n",
    "pipeline = Pipeline([\n",
    "    ('preprocess', StandardScaler(with_mean=False)),  # You can add any preprocessing steps here\n",
    "    ('stacking', stacking_clf)\n",
    "])\n",
    "\n",
    "# Train the pipeline\n",
    "X_train_selected_norm = preprocess_X(X_train_selected)\n",
    "X_test_selected_norm = preprocess_X(X_test_selected)\n",
    "pipeline.fit(X_train_selected_norm, y_train)\n",
    "\n",
    "# Predict on the test set\n",
    "y_te_pred_stacking = pipeline.predict(X_test_selected_norm)\n",
    "\n",
    "# Compute balanced accuracy and confusion matrix for the stacking model\n",
    "print(f\"Stacking model balanced accuracy on test set: {balanced_accuracy_score(y_test, y_te_pred_stacking):.3f}\")\n",
    "cm_stacking = confusion_matrix(y_test, y_te_pred_stacking)\n",
    "disp_stacking = ConfusionMatrixDisplay(confusion_matrix=cm_stacking, display_labels=np.unique(y_test))\n",
    "disp_stacking.plot()\n",
    "plt.title(\"Confusion matrix Stacking on test set\")\n",
    "plt.show()"
   ]
  },
  {
   "cell_type": "code",
   "execution_count": 38,
   "id": "f6a60b80-c40f-4cf9-9b10-e34f4e668f62",
   "metadata": {},
   "outputs": [],
   "source": [
    "from sklearn.model_selection import RandomizedSearchCV\n",
    "from sklearn.ensemble import RandomForestClassifier\n",
    "from sklearn.neural_network import MLPClassifier\n",
    "from sklearn.linear_model import Lasso\n",
    "from sklearn.pipeline import make_pipeline\n",
    "from sklearn.feature_selection import SelectFromModel\n",
    "from sklearn.preprocessing import StandardScaler\n",
    "from scipy.stats import uniform, randint\n",
    "from sklearn.metrics import make_scorer, recall_score, accuracy_score\n",
    "from sklearn.decomposition import PCA"
   ]
  },
  {
   "cell_type": "code",
   "execution_count": 39,
   "id": "9d9a384b-388a-4b4d-86ba-b77aea613d15",
   "metadata": {},
   "outputs": [
    {
     "name": "stdout",
     "output_type": "stream",
     "text": [
      "Stacking model balanced accuracy on test set: 0.821\n"
     ]
    },
    {
     "data": {
      "image/png": "[encoded data removed]",
      "text/plain": [
       "<Figure size 640x480 with 2 Axes>"
      ]
     },
     "metadata": {},
     "output_type": "display_data"
    }
   ],
   "source": [
    "\"\"\"\n",
    "# Define base models\n",
    "base_models = [\n",
    "    #('pca_svc', make_pipeline(SelectFromModel(Lasso(alpha=0.05)), SVC(kernel='linear', C=1.0))), ##100##12 PCA(n_components=50),\n",
    "    ('rf', make_pipeline(StandardScaler(), SelectFromModel(Lasso(alpha=0.06283860093330873)), RandomForestClassifier(random_state=42, n_estimators= 96, max_features=15))),  ##50##3 PCA(n_components=50),\n",
    "    #('mlp', make_pipeline(StandardScaler(with_mean=False), SelectFromModel(Lasso(alpha=0.06283860093330873)), MLPClassifier(hidden_layer_sizes=(128, 64), activation='relu', solver='adam', max_iter=1000))),  ## PCA(n_components=40),\n",
    "    ('mlp', make_pipeline(StandardScaler(), SelectFromModel(RandomForestClassifier(n_estimators=74, max_features=13, random_state=42)), MLPClassifier( hidden_layer_sizes=(256, 256), activation='relu', solver='adam', max_iter=865))),\n",
    "    #('mlp', make_pipeline(StandardScaler(), SelectFromModel(Lasso(alpha=0.06283860093330873)),MLPClassifier(random_state=42, hidden_layer_sizes=(64, 64), activation='relu', solver='adam', max_iter=899))),\n",
    "        ]\n",
    "# Define the meta-model\n",
    "meta_model = MLPClassifier(hidden_layer_sizes=(64, 64), activation='relu', solver='adam', max_iter=1187)\n",
    "\n",
    "base_models = [\n",
    "    #('pca_svc', make_pipeline(SelectFromModel(Lasso(alpha=0.05)), SVC(kernel='linear', C=1.0))), ##100##12 PCA(n_components=50),\n",
    "   # ('rf', make_pipeline(StandardScaler(), SelectFromModel(Lasso(alpha=0.06283860093330873)), RandomForestClassifier(random_state=42, n_estimators= 96, max_features=15))),  ##50##3 PCA(n_components=50),\n",
    "    ('rf', make_pipeline(StandardScaler(), SelectFromModel(Lasso(alpha=0.04165852851773962)), RandomForestClassifier(random_state=42, n_estimators= 72, max_features=19))),  ##50##3 PCA(n_components=50),\n",
    "    #('mlp', make_pipeline(StandardScaler(with_mean=False), SelectFromModel(Lasso(alpha=0.06283860093330873)), MLPClassifier(hidden_layer_sizes=(128, 64), activation='relu', solver='adam', max_iter=1000))),  ## PCA(n_components=40),\n",
    "    ('mlp', make_pipeline(StandardScaler(), SelectFromModel(RandomForestClassifier(n_estimators=62, max_features=13, random_state=42)), MLPClassifier( hidden_layer_sizes=(512, 256), activation='relu', solver='adam', max_iter=1264))),\n",
    "    #('mlp', make_pipeline(StandardScaler(), SelectFromModel(Lasso(alpha=0.06283860093330873)),MLPClassifier(random_state=42, hidden_layer_sizes=(64, 64), activation='relu', solver='adam', max_iter=899))),\n",
    "        ]\n",
    "        \n",
    "# Define the meta-model\n",
    "meta_model = MLPClassifier(hidden_layer_sizes=(256, 128), activation='relu', solver='adam', max_iter=989)\n",
    "\"\"\"\n",
    "base_models = [\n",
    "            #('pca_svc', make_pipeline(SelectFromModel(Lasso(alpha=0.05)), SVC(kernel='linear', C=1.0))), ##100##12 PCA(n_components=50),\n",
    "           # ('rf', make_pipeline(StandardScaler(), SelectFromModel(Lasso(alpha=0.06283860093330873)), RandomForestClassifier(random_state=42, n_estimators= 96, max_features=15))),  ##50##3 PCA(n_components=50),\n",
    "            ('rf', make_pipeline(StandardScaler(), SelectFromModel(Lasso(alpha=0.04165852851773962)), RandomForestClassifier(random_state=42, n_estimators= 72, max_features=19))),  ##50##3 PCA(n_components=50),\n",
    "            #('mlp', make_pipeline(StandardScaler(with_mean=False), SelectFromModel(Lasso(alpha=0.06283860093330873)), MLPClassifier(hidden_layer_sizes=(128, 64), activation='relu', solver='adam', max_iter=1000))),  ## PCA(n_components=40),\n",
    "            ('mlp', make_pipeline(StandardScaler(), SelectFromModel(RandomForestClassifier(n_estimators=74, max_features=13, random_state=42)), MLPClassifier( hidden_layer_sizes=(512, 256), activation='relu', solver='adam', max_iter=865))),\n",
    "            #('mlp', make_pipeline(StandardScaler(), SelectFromModel(Lasso(alpha=0.06283860093330873)),MLPClassifier(random_state=42, hidden_layer_sizes=(64, 64), activation='relu', solver='adam', max_iter=899))),\n",
    "        ]\n",
    "# Define the meta-model\n",
    "meta_model = MLPClassifier(hidden_layer_sizes=(256, 128), activation='relu', solver='adam', max_iter=1187)\n",
    "\n",
    "\n",
    "# Create the stacking classifier\n",
    "stacking_clf = StackingClassifier(estimators=base_models, final_estimator=meta_model)\n",
    "\n",
    "# Define the overall pipeline\n",
    "pipeline = Pipeline([\n",
    "    ('preprocess', StandardScaler(with_mean=False)),  # You can add any preprocessing steps here\n",
    "    ('stacking', stacking_clf)\n",
    "])\n",
    "\n",
    "# Train the pipeline\n",
    "X_train_norm = preprocess_X(X_train)\n",
    "X_test_norm = preprocess_X(X_test)\n",
    "pipeline.fit(X_train_norm, y_train)\n",
    "\n",
    "# Predict on the test set\n",
    "y_te_pred_stacking = pipeline.predict(X_test_norm)\n",
    "\n",
    "# Compute balanced accuracy and confusion matrix for the stacking model\n",
    "print(f\"Stacking model balanced accuracy on test set: {balanced_accuracy_score(y_test, y_te_pred_stacking):.3f}\")\n",
    "cm_stacking = confusion_matrix(y_test, y_te_pred_stacking)\n",
    "disp_stacking = ConfusionMatrixDisplay(confusion_matrix=cm_stacking, display_labels=np.unique(y_test))\n",
    "disp_stacking.plot(cmap=\"Blues\")\n",
    "plt.title(\"Confusion matrix Stacking_Best on test set\")\n",
    "plt.show()\n"
   ]
  },
  {
   "cell_type": "code",
   "execution_count": 40,
   "id": "34ed1723-be0d-4f84-90f5-700a38c03aff",
   "metadata": {},
   "outputs": [
    {
     "name": "stdout",
     "output_type": "stream",
     "text": [
      "Train accuracy: 1.0\n",
      "Test accuracy: 0.872\n",
      "Train recall: 1.0\n",
      "Test recall: 0.872\n",
      "Train precision: 1.0\n",
      "Test precision: 0.8746779644251002\n",
      "Train f1: 1.0\n",
      "Test f1: 0.8699349139636543\n"
     ]
    }
   ],
   "source": [
    "from sklearn.metrics import accuracy_score, recall_score, precision_score, f1_score\n",
    "\n",
    "print('Train accuracy:', accuracy_score(y_train, pipeline.predict(X_train_norm)))\n",
    "print('Test accuracy:', accuracy_score(y_test, y_te_pred_stacking))\n",
    "\n",
    "print('Train recall:', recall_score(y_train, pipeline.predict(X_train_norm), average='weighted'))\n",
    "print('Test recall:', recall_score(y_test, y_te_pred_stacking, average='weighted'))\n",
    "\n",
    "print('Train precision:', precision_score(y_train, pipeline.predict(X_train_norm), average='weighted'))\n",
    "print('Test precision:', precision_score(y_test, y_te_pred_stacking, average='weighted'))\n",
    "\n",
    "\n",
    "print('Train f1:', f1_score(y_train, pipeline.predict(X_train_norm), average='weighted'))\n",
    "print('Test f1:', f1_score(y_test, y_te_pred_stacking, average='weighted'))\n"
   ]
  },
  {
   "cell_type": "raw",
   "id": "691d5e93-70b5-4bb9-b4c4-063963312428",
   "metadata": {},
   "source": [
    "from sklearn.feature_selection import VarianceThreshold\n",
    "\n",
    "# Supposons que X_train est votre ensemble de données\n",
    "selector = VarianceThreshold(threshold=0.1)\n",
    "X_train_selected__ = selector.fit_transform(X_train)\n",
    "# Récupérer les indices des colonnes sélectionnées\n",
    "selected_columns_indices = selector.get_support(indices=True)\n",
    "X_test_selected__= X_test[:,selected_columns_indices]\n",
    "X_train_selected__, X_test_selected__"
   ]
  },
  {
   "cell_type": "code",
   "execution_count": null,
   "id": "dcb95acd-7b17-402b-90fc-e07c902db10d",
   "metadata": {},
   "outputs": [],
   "source": []
  },
  {
   "cell_type": "raw",
   "id": "8ea3a9a9-4fbc-4275-991f-2524285fb22d",
   "metadata": {},
   "source": [
    "# Define base models\n",
    "base_models = [\n",
    "    ('pca_svc', make_pipeline( PCA(n_components=70), SVC(kernel='linear', C=1.0))),\n",
    "    ('rf', make_pipeline(PCA(n_components=85), RandomForestClassifier(n_estimators=50,max_features=3))),\n",
    "    #('knn', make_pipeline(TruncatedSVD(n_components=20),KNeighborsClassifier(n_neighbors=5))),\n",
    "    ('mlp', make_pipeline(StandardScaler(with_mean=False), PCA(n_components=120), MLPClassifier(hidden_layer_sizes=(100, 50), activation='relu', solver='adam', max_iter=1000))),\n",
    "]\n",
    "\n",
    "# Define the meta-model\n",
    "meta_model = MLPClassifier(hidden_layer_sizes=(100, 50), activation='relu', solver='adam', max_iter=1000)\n",
    "\n",
    "# Create the stacking classifier\n",
    "stacking_clf = StackingClassifier(estimators=base_models, final_estimator=meta_model)\n",
    "\n",
    "# Define the overall pipeline\n",
    "pipeline = Pipeline([\n",
    "    ('preprocess', StandardScaler(with_mean=False)),  # You can add any preprocessing steps here\n",
    "    ('stacking', stacking_clf)\n",
    "])\n",
    "\n",
    "# Train the pipeline\n",
    "X_train_selected_norm__ = preprocess_X(X_train_selected__)\n",
    "X_test_selected_norm__ = preprocess_X(X_test_selected__)\n",
    "pipeline.fit(X_train_selected_norm__, y_train)\n",
    "# Predict on the test set\n",
    "y_te_pred_stacking = pipeline.predict(X_test_selected_norm__)\n",
    "\n",
    "# Compute balanced accuracy and confusion matrix for the stacking model\n",
    "print(f\"Stacking model balanced accuracy on test set: {balanced_accuracy_score(y_test, y_te_pred_stacking):.3f}\")\n",
    "cm_stacking = confusion_matrix(y_test, y_te_pred_stacking)\n",
    "disp_stacking = ConfusionMatrixDisplay(confusion_matrix=cm_stacking, display_labels=np.unique(y_test))\n",
    "disp_stacking.plot()\n",
    "plt.title(\"Confusion matrix Stacking on test set\")\n",
    "plt.show()"
   ]
  },
  {
   "cell_type": "code",
   "execution_count": null,
   "id": "dcac969d-5f05-4b14-b22f-469be00b8876",
   "metadata": {},
   "outputs": [],
   "source": []
  },
  {
   "cell_type": "code",
   "execution_count": null,
   "id": "133e2acb-849a-45c0-8ed0-6fab8df34308",
   "metadata": {},
   "outputs": [],
   "source": []
  },
  {
   "cell_type": "raw",
   "id": "f8c7f856-996d-4a14-a71c-93ec28a7b0c2",
   "metadata": {},
   "source": [
    "# Définir le pipeline avec les paramètres à optimiser\n",
    "pipeline = make_pipeline(\n",
    "    PCA(n_components=10),\n",
    "    SelectFromModel(Lasso(alpha=0.01)),\n",
    "    RandomForestClassifier(random_state=42)\n",
    ")\n",
    "\n",
    "# Définir les paramètres à optimiser\n",
    "param_distributions = {\n",
    "    'pca__n_components': randint(1, 30),  # Paramètre pour le nombre de composantes principales dans PCA\n",
    "    'selectfrommodel__estimator__alpha': uniform(0.01, 1.0),  # Paramètre pour alpha dans le modèle Lasso\n",
    "    'randomforestclassifier__n_estimators': randint(50, 200),  # Paramètre pour le nombre d'arbres dans le RandomForest\n",
    "    'randomforestclassifier__max_features': randint(5, 20)  # Paramètre pour le nombre maximal de caractéristiques dans le RandomForest\n",
    "}\n",
    "accuracy_scorer = make_scorer(accuracy_score)\n",
    "\n",
    "# Définir la recherche aléatoire\n",
    "random_search = RandomizedSearchCV(\n",
    "    pipeline,\n",
    "    param_distributions=param_distributions,\n",
    "    n_iter=10,  # Nombre d'itérations de recherche aléatoire\n",
    "    cv=5,  # Nombre de plis pour la validation croisée\n",
    "    scoring=accuracy_scorer,\n",
    "    random_state=42, \n",
    "    error_score='raise'\n",
    ")\n",
    "\n",
    "# Exécuter la recherche aléatoire sur vos données d'entraînement\n",
    "# Assurez-vous d'avoir vos données d'entraînement X_train, y_train prêtes\n",
    "random_search.fit(X_train_norm, y_train_encoded)\n",
    "\n",
    "# Afficher les meilleurs paramètres trouvés\n",
    "print(\"Meilleurs paramètres trouvés:\", random_search.best_params_)"
   ]
  },
  {
   "cell_type": "code",
   "execution_count": 120,
   "id": "b8f5ea20-03a2-4d69-ba96-b922ba17d515",
   "metadata": {
    "scrolled": true
   },
   "outputs": [
    {
     "name": "stderr",
     "output_type": "stream",
     "text": [
      "C:\\Users\\astri\\anaconda3\\envs\\data-camp\\lib\\site-packages\\sklearn\\linear_model\\_coordinate_descent.py:589: ConvergenceWarning: Objective did not converge. You might want to increase the number of iterations. Duality gap: 0.28104662895202637, tolerance: 0.10627187043428421\n",
      "  model = cd_fast.sparse_enet_coordinate_descent(\n",
      "C:\\Users\\astri\\anaconda3\\envs\\data-camp\\lib\\site-packages\\sklearn\\linear_model\\_coordinate_descent.py:589: ConvergenceWarning: Objective did not converge. You might want to increase the number of iterations. Duality gap: 1.7418514490127563, tolerance: 0.10627187043428421\n",
      "  model = cd_fast.sparse_enet_coordinate_descent(\n",
      "C:\\Users\\astri\\anaconda3\\envs\\data-camp\\lib\\site-packages\\sklearn\\linear_model\\_coordinate_descent.py:589: ConvergenceWarning: Objective did not converge. You might want to increase the number of iterations. Duality gap: 1.6266041994094849, tolerance: 0.10610197484493256\n",
      "  model = cd_fast.sparse_enet_coordinate_descent(\n",
      "C:\\Users\\astri\\anaconda3\\envs\\data-camp\\lib\\site-packages\\sklearn\\linear_model\\_coordinate_descent.py:589: ConvergenceWarning: Objective did not converge. You might want to increase the number of iterations. Duality gap: 0.8214397430419922, tolerance: 0.10610199719667435\n",
      "  model = cd_fast.sparse_enet_coordinate_descent(\n",
      "C:\\Users\\astri\\anaconda3\\envs\\data-camp\\lib\\site-packages\\sklearn\\linear_model\\_coordinate_descent.py:589: ConvergenceWarning: Objective did not converge. You might want to increase the number of iterations. Duality gap: 0.28997698426246643, tolerance: 0.10641550272703171\n",
      "  model = cd_fast.sparse_enet_coordinate_descent(\n",
      "C:\\Users\\astri\\anaconda3\\envs\\data-camp\\lib\\site-packages\\sklearn\\linear_model\\_coordinate_descent.py:589: ConvergenceWarning: Objective did not converge. You might want to increase the number of iterations. Duality gap: 0.6123715043067932, tolerance: 0.10627187043428421\n",
      "  model = cd_fast.sparse_enet_coordinate_descent(\n",
      "C:\\Users\\astri\\anaconda3\\envs\\data-camp\\lib\\site-packages\\sklearn\\linear_model\\_coordinate_descent.py:589: ConvergenceWarning: Objective did not converge. You might want to increase the number of iterations. Duality gap: 3.5993239879608154, tolerance: 0.10627187043428421\n",
      "  model = cd_fast.sparse_enet_coordinate_descent(\n",
      "C:\\Users\\astri\\anaconda3\\envs\\data-camp\\lib\\site-packages\\sklearn\\linear_model\\_coordinate_descent.py:589: ConvergenceWarning: Objective did not converge. You might want to increase the number of iterations. Duality gap: 1.5608068704605103, tolerance: 0.10610197484493256\n",
      "  model = cd_fast.sparse_enet_coordinate_descent(\n",
      "C:\\Users\\astri\\anaconda3\\envs\\data-camp\\lib\\site-packages\\sklearn\\linear_model\\_coordinate_descent.py:589: ConvergenceWarning: Objective did not converge. You might want to increase the number of iterations. Duality gap: 2.2828965187072754, tolerance: 0.10610199719667435\n",
      "  model = cd_fast.sparse_enet_coordinate_descent(\n",
      "C:\\Users\\astri\\anaconda3\\envs\\data-camp\\lib\\site-packages\\sklearn\\linear_model\\_coordinate_descent.py:589: ConvergenceWarning: Objective did not converge. You might want to increase the number of iterations. Duality gap: 33.548641204833984, tolerance: 0.10641550272703171\n",
      "  model = cd_fast.sparse_enet_coordinate_descent(\n",
      "C:\\Users\\astri\\anaconda3\\envs\\data-camp\\lib\\site-packages\\sklearn\\linear_model\\_coordinate_descent.py:589: ConvergenceWarning: Objective did not converge. You might want to increase the number of iterations. Duality gap: 51.923770904541016, tolerance: 0.10627187043428421\n",
      "  model = cd_fast.sparse_enet_coordinate_descent(\n",
      "C:\\Users\\astri\\anaconda3\\envs\\data-camp\\lib\\site-packages\\sklearn\\linear_model\\_coordinate_descent.py:589: ConvergenceWarning: Objective did not converge. You might want to increase the number of iterations. Duality gap: 23.240081787109375, tolerance: 0.10627187043428421\n",
      "  model = cd_fast.sparse_enet_coordinate_descent(\n",
      "C:\\Users\\astri\\anaconda3\\envs\\data-camp\\lib\\site-packages\\sklearn\\linear_model\\_coordinate_descent.py:589: ConvergenceWarning: Objective did not converge. You might want to increase the number of iterations. Duality gap: 90.19792175292969, tolerance: 0.10610197484493256\n",
      "  model = cd_fast.sparse_enet_coordinate_descent(\n",
      "C:\\Users\\astri\\anaconda3\\envs\\data-camp\\lib\\site-packages\\sklearn\\linear_model\\_coordinate_descent.py:589: ConvergenceWarning: Objective did not converge. You might want to increase the number of iterations. Duality gap: 25.34387969970703, tolerance: 0.10610199719667435\n",
      "  model = cd_fast.sparse_enet_coordinate_descent(\n",
      "C:\\Users\\astri\\anaconda3\\envs\\data-camp\\lib\\site-packages\\sklearn\\linear_model\\_coordinate_descent.py:589: ConvergenceWarning: Objective did not converge. You might want to increase the number of iterations. Duality gap: 0.27961936593055725, tolerance: 0.10627187043428421\n",
      "  model = cd_fast.sparse_enet_coordinate_descent(\n",
      "C:\\Users\\astri\\anaconda3\\envs\\data-camp\\lib\\site-packages\\sklearn\\linear_model\\_coordinate_descent.py:589: ConvergenceWarning: Objective did not converge. You might want to increase the number of iterations. Duality gap: 1.7238812446594238, tolerance: 0.10627187043428421\n",
      "  model = cd_fast.sparse_enet_coordinate_descent(\n",
      "C:\\Users\\astri\\anaconda3\\envs\\data-camp\\lib\\site-packages\\sklearn\\linear_model\\_coordinate_descent.py:589: ConvergenceWarning: Objective did not converge. You might want to increase the number of iterations. Duality gap: 1.74568772315979, tolerance: 0.10610197484493256\n",
      "  model = cd_fast.sparse_enet_coordinate_descent(\n",
      "C:\\Users\\astri\\anaconda3\\envs\\data-camp\\lib\\site-packages\\sklearn\\linear_model\\_coordinate_descent.py:589: ConvergenceWarning: Objective did not converge. You might want to increase the number of iterations. Duality gap: 0.7597397565841675, tolerance: 0.10610199719667435\n",
      "  model = cd_fast.sparse_enet_coordinate_descent(\n",
      "C:\\Users\\astri\\anaconda3\\envs\\data-camp\\lib\\site-packages\\sklearn\\linear_model\\_coordinate_descent.py:589: ConvergenceWarning: Objective did not converge. You might want to increase the number of iterations. Duality gap: 0.1840411275625229, tolerance: 0.10627187043428421\n",
      "  model = cd_fast.sparse_enet_coordinate_descent(\n",
      "C:\\Users\\astri\\anaconda3\\envs\\data-camp\\lib\\site-packages\\sklearn\\linear_model\\_coordinate_descent.py:589: ConvergenceWarning: Objective did not converge. You might want to increase the number of iterations. Duality gap: 0.43438705801963806, tolerance: 0.10610197484493256\n",
      "  model = cd_fast.sparse_enet_coordinate_descent(\n",
      "C:\\Users\\astri\\anaconda3\\envs\\data-camp\\lib\\site-packages\\sklearn\\linear_model\\_coordinate_descent.py:589: ConvergenceWarning: Objective did not converge. You might want to increase the number of iterations. Duality gap: 0.2509055733680725, tolerance: 0.10610199719667435\n",
      "  model = cd_fast.sparse_enet_coordinate_descent(\n",
      "C:\\Users\\astri\\anaconda3\\envs\\data-camp\\lib\\site-packages\\sklearn\\linear_model\\_coordinate_descent.py:589: ConvergenceWarning: Objective did not converge. You might want to increase the number of iterations. Duality gap: 122.92816162109375, tolerance: 0.10641550272703171\n",
      "  model = cd_fast.sparse_enet_coordinate_descent(\n",
      "C:\\Users\\astri\\anaconda3\\envs\\data-camp\\lib\\site-packages\\sklearn\\linear_model\\_coordinate_descent.py:589: ConvergenceWarning: Objective did not converge. You might want to increase the number of iterations. Duality gap: 87.8699951171875, tolerance: 0.10627187043428421\n",
      "  model = cd_fast.sparse_enet_coordinate_descent(\n",
      "C:\\Users\\astri\\anaconda3\\envs\\data-camp\\lib\\site-packages\\sklearn\\linear_model\\_coordinate_descent.py:589: ConvergenceWarning: Objective did not converge. You might want to increase the number of iterations. Duality gap: 95.52603149414062, tolerance: 0.10627187043428421\n",
      "  model = cd_fast.sparse_enet_coordinate_descent(\n",
      "C:\\Users\\astri\\anaconda3\\envs\\data-camp\\lib\\site-packages\\sklearn\\linear_model\\_coordinate_descent.py:589: ConvergenceWarning: Objective did not converge. You might want to increase the number of iterations. Duality gap: 131.92132568359375, tolerance: 0.10610197484493256\n",
      "  model = cd_fast.sparse_enet_coordinate_descent(\n",
      "C:\\Users\\astri\\anaconda3\\envs\\data-camp\\lib\\site-packages\\sklearn\\linear_model\\_coordinate_descent.py:589: ConvergenceWarning: Objective did not converge. You might want to increase the number of iterations. Duality gap: 127.81256866455078, tolerance: 0.10610199719667435\n",
      "  model = cd_fast.sparse_enet_coordinate_descent(\n",
      "C:\\Users\\astri\\anaconda3\\envs\\data-camp\\lib\\site-packages\\sklearn\\linear_model\\_coordinate_descent.py:589: ConvergenceWarning: Objective did not converge. You might want to increase the number of iterations. Duality gap: 121.3095932006836, tolerance: 0.10641550272703171\n",
      "  model = cd_fast.sparse_enet_coordinate_descent(\n",
      "C:\\Users\\astri\\anaconda3\\envs\\data-camp\\lib\\site-packages\\sklearn\\linear_model\\_coordinate_descent.py:589: ConvergenceWarning: Objective did not converge. You might want to increase the number of iterations. Duality gap: 93.4555892944336, tolerance: 0.10627187043428421\n",
      "  model = cd_fast.sparse_enet_coordinate_descent(\n",
      "C:\\Users\\astri\\anaconda3\\envs\\data-camp\\lib\\site-packages\\sklearn\\linear_model\\_coordinate_descent.py:589: ConvergenceWarning: Objective did not converge. You might want to increase the number of iterations. Duality gap: 100.99981689453125, tolerance: 0.10627187043428421\n",
      "  model = cd_fast.sparse_enet_coordinate_descent(\n",
      "C:\\Users\\astri\\anaconda3\\envs\\data-camp\\lib\\site-packages\\sklearn\\linear_model\\_coordinate_descent.py:589: ConvergenceWarning: Objective did not converge. You might want to increase the number of iterations. Duality gap: 133.13436889648438, tolerance: 0.10610197484493256\n",
      "  model = cd_fast.sparse_enet_coordinate_descent(\n",
      "C:\\Users\\astri\\anaconda3\\envs\\data-camp\\lib\\site-packages\\sklearn\\linear_model\\_coordinate_descent.py:589: ConvergenceWarning: Objective did not converge. You might want to increase the number of iterations. Duality gap: 123.7189712524414, tolerance: 0.10610199719667435\n",
      "  model = cd_fast.sparse_enet_coordinate_descent(\n",
      "C:\\Users\\astri\\anaconda3\\envs\\data-camp\\lib\\site-packages\\sklearn\\linear_model\\_coordinate_descent.py:589: ConvergenceWarning: Objective did not converge. You might want to increase the number of iterations. Duality gap: 51.49493408203125, tolerance: 0.10641550272703171\n",
      "  model = cd_fast.sparse_enet_coordinate_descent(\n",
      "C:\\Users\\astri\\anaconda3\\envs\\data-camp\\lib\\site-packages\\sklearn\\linear_model\\_coordinate_descent.py:589: ConvergenceWarning: Objective did not converge. You might want to increase the number of iterations. Duality gap: 28.57196617126465, tolerance: 0.10627187043428421\n",
      "  model = cd_fast.sparse_enet_coordinate_descent(\n",
      "C:\\Users\\astri\\anaconda3\\envs\\data-camp\\lib\\site-packages\\sklearn\\linear_model\\_coordinate_descent.py:589: ConvergenceWarning: Objective did not converge. You might want to increase the number of iterations. Duality gap: 28.806026458740234, tolerance: 0.10627187043428421\n",
      "  model = cd_fast.sparse_enet_coordinate_descent(\n",
      "C:\\Users\\astri\\anaconda3\\envs\\data-camp\\lib\\site-packages\\sklearn\\linear_model\\_coordinate_descent.py:589: ConvergenceWarning: Objective did not converge. You might want to increase the number of iterations. Duality gap: 52.68633270263672, tolerance: 0.10610197484493256\n",
      "  model = cd_fast.sparse_enet_coordinate_descent(\n",
      "C:\\Users\\astri\\anaconda3\\envs\\data-camp\\lib\\site-packages\\sklearn\\linear_model\\_coordinate_descent.py:589: ConvergenceWarning: Objective did not converge. You might want to increase the number of iterations. Duality gap: 30.587923049926758, tolerance: 0.10610199719667435\n",
      "  model = cd_fast.sparse_enet_coordinate_descent(\n",
      "C:\\Users\\astri\\anaconda3\\envs\\data-camp\\lib\\site-packages\\sklearn\\linear_model\\_coordinate_descent.py:589: ConvergenceWarning: Objective did not converge. You might want to increase the number of iterations. Duality gap: 0.11531814187765121, tolerance: 0.10610197484493256\n",
      "  model = cd_fast.sparse_enet_coordinate_descent(\n",
      "C:\\Users\\astri\\anaconda3\\envs\\data-camp\\lib\\site-packages\\sklearn\\linear_model\\_coordinate_descent.py:589: ConvergenceWarning: Objective did not converge. You might want to increase the number of iterations. Duality gap: 100.32186126708984, tolerance: 0.10641550272703171\n",
      "  model = cd_fast.sparse_enet_coordinate_descent(\n",
      "C:\\Users\\astri\\anaconda3\\envs\\data-camp\\lib\\site-packages\\sklearn\\linear_model\\_coordinate_descent.py:589: ConvergenceWarning: Objective did not converge. You might want to increase the number of iterations. Duality gap: 65.16156005859375, tolerance: 0.10627187043428421\n",
      "  model = cd_fast.sparse_enet_coordinate_descent(\n",
      "C:\\Users\\astri\\anaconda3\\envs\\data-camp\\lib\\site-packages\\sklearn\\linear_model\\_coordinate_descent.py:589: ConvergenceWarning: Objective did not converge. You might want to increase the number of iterations. Duality gap: 80.49686431884766, tolerance: 0.10627187043428421\n",
      "  model = cd_fast.sparse_enet_coordinate_descent(\n",
      "C:\\Users\\astri\\anaconda3\\envs\\data-camp\\lib\\site-packages\\sklearn\\linear_model\\_coordinate_descent.py:589: ConvergenceWarning: Objective did not converge. You might want to increase the number of iterations. Duality gap: 99.0403060913086, tolerance: 0.10610197484493256\n",
      "  model = cd_fast.sparse_enet_coordinate_descent(\n",
      "C:\\Users\\astri\\anaconda3\\envs\\data-camp\\lib\\site-packages\\sklearn\\linear_model\\_coordinate_descent.py:589: ConvergenceWarning: Objective did not converge. You might want to increase the number of iterations. Duality gap: 90.37271881103516, tolerance: 0.10610199719667435\n",
      "  model = cd_fast.sparse_enet_coordinate_descent(\n",
      "C:\\Users\\astri\\anaconda3\\envs\\data-camp\\lib\\site-packages\\sklearn\\linear_model\\_coordinate_descent.py:589: ConvergenceWarning: Objective did not converge. You might want to increase the number of iterations. Duality gap: 1.986198902130127, tolerance: 0.10641550272703171\n",
      "  model = cd_fast.sparse_enet_coordinate_descent(\n",
      "C:\\Users\\astri\\anaconda3\\envs\\data-camp\\lib\\site-packages\\sklearn\\linear_model\\_coordinate_descent.py:589: ConvergenceWarning: Objective did not converge. You might want to increase the number of iterations. Duality gap: 2.0150794982910156, tolerance: 0.10627187043428421\n",
      "  model = cd_fast.sparse_enet_coordinate_descent(\n",
      "C:\\Users\\astri\\anaconda3\\envs\\data-camp\\lib\\site-packages\\sklearn\\linear_model\\_coordinate_descent.py:589: ConvergenceWarning: Objective did not converge. You might want to increase the number of iterations. Duality gap: 14.32480525970459, tolerance: 0.10627187043428421\n",
      "  model = cd_fast.sparse_enet_coordinate_descent(\n",
      "C:\\Users\\astri\\anaconda3\\envs\\data-camp\\lib\\site-packages\\sklearn\\linear_model\\_coordinate_descent.py:589: ConvergenceWarning: Objective did not converge. You might want to increase the number of iterations. Duality gap: 18.035770416259766, tolerance: 0.10610197484493256\n",
      "  model = cd_fast.sparse_enet_coordinate_descent(\n",
      "C:\\Users\\astri\\anaconda3\\envs\\data-camp\\lib\\site-packages\\sklearn\\linear_model\\_coordinate_descent.py:589: ConvergenceWarning: Objective did not converge. You might want to increase the number of iterations. Duality gap: 22.24946403503418, tolerance: 0.10610199719667435\n",
      "  model = cd_fast.sparse_enet_coordinate_descent(\n",
      "C:\\Users\\astri\\anaconda3\\envs\\data-camp\\lib\\site-packages\\sklearn\\linear_model\\_coordinate_descent.py:589: ConvergenceWarning: Objective did not converge. You might want to increase the number of iterations. Duality gap: 1.3396601676940918, tolerance: 0.10641550272703171\n",
      "  model = cd_fast.sparse_enet_coordinate_descent(\n",
      "C:\\Users\\astri\\anaconda3\\envs\\data-camp\\lib\\site-packages\\sklearn\\linear_model\\_coordinate_descent.py:589: ConvergenceWarning: Objective did not converge. You might want to increase the number of iterations. Duality gap: 0.8247422575950623, tolerance: 0.10627187043428421\n",
      "  model = cd_fast.sparse_enet_coordinate_descent(\n",
      "C:\\Users\\astri\\anaconda3\\envs\\data-camp\\lib\\site-packages\\sklearn\\linear_model\\_coordinate_descent.py:589: ConvergenceWarning: Objective did not converge. You might want to increase the number of iterations. Duality gap: 4.550025463104248, tolerance: 0.10627187043428421\n",
      "  model = cd_fast.sparse_enet_coordinate_descent(\n",
      "C:\\Users\\astri\\anaconda3\\envs\\data-camp\\lib\\site-packages\\sklearn\\linear_model\\_coordinate_descent.py:589: ConvergenceWarning: Objective did not converge. You might want to increase the number of iterations. Duality gap: 4.034858703613281, tolerance: 0.10610197484493256\n",
      "  model = cd_fast.sparse_enet_coordinate_descent(\n",
      "C:\\Users\\astri\\anaconda3\\envs\\data-camp\\lib\\site-packages\\sklearn\\linear_model\\_coordinate_descent.py:589: ConvergenceWarning: Objective did not converge. You might want to increase the number of iterations. Duality gap: 3.0664727687835693, tolerance: 0.10610199719667435\n",
      "  model = cd_fast.sparse_enet_coordinate_descent(\n",
      "C:\\Users\\astri\\anaconda3\\envs\\data-camp\\lib\\site-packages\\sklearn\\linear_model\\_coordinate_descent.py:589: ConvergenceWarning: Objective did not converge. You might want to increase the number of iterations. Duality gap: 54.09855651855469, tolerance: 0.10641550272703171\n",
      "  model = cd_fast.sparse_enet_coordinate_descent(\n",
      "C:\\Users\\astri\\anaconda3\\envs\\data-camp\\lib\\site-packages\\sklearn\\linear_model\\_coordinate_descent.py:589: ConvergenceWarning: Objective did not converge. You might want to increase the number of iterations. Duality gap: 12.253117561340332, tolerance: 0.10627187043428421\n",
      "  model = cd_fast.sparse_enet_coordinate_descent(\n",
      "C:\\Users\\astri\\anaconda3\\envs\\data-camp\\lib\\site-packages\\sklearn\\linear_model\\_coordinate_descent.py:589: ConvergenceWarning: Objective did not converge. You might want to increase the number of iterations. Duality gap: 57.97254180908203, tolerance: 0.10627187043428421\n",
      "  model = cd_fast.sparse_enet_coordinate_descent(\n",
      "C:\\Users\\astri\\anaconda3\\envs\\data-camp\\lib\\site-packages\\sklearn\\linear_model\\_coordinate_descent.py:589: ConvergenceWarning: Objective did not converge. You might want to increase the number of iterations. Duality gap: 32.5910530090332, tolerance: 0.10610197484493256\n",
      "  model = cd_fast.sparse_enet_coordinate_descent(\n",
      "C:\\Users\\astri\\anaconda3\\envs\\data-camp\\lib\\site-packages\\sklearn\\linear_model\\_coordinate_descent.py:589: ConvergenceWarning: Objective did not converge. You might want to increase the number of iterations. Duality gap: 39.08479309082031, tolerance: 0.10610199719667435\n",
      "  model = cd_fast.sparse_enet_coordinate_descent(\n",
      "C:\\Users\\astri\\anaconda3\\envs\\data-camp\\lib\\site-packages\\sklearn\\linear_model\\_coordinate_descent.py:589: ConvergenceWarning: Objective did not converge. You might want to increase the number of iterations. Duality gap: 0.2523772418498993, tolerance: 0.10610197484493256\n",
      "  model = cd_fast.sparse_enet_coordinate_descent(\n",
      "C:\\Users\\astri\\anaconda3\\envs\\data-camp\\lib\\site-packages\\sklearn\\linear_model\\_coordinate_descent.py:589: ConvergenceWarning: Objective did not converge. You might want to increase the number of iterations. Duality gap: 0.32200756669044495, tolerance: 0.13279110193252563\n",
      "  model = cd_fast.sparse_enet_coordinate_descent(\n"
     ]
    },
    {
     "name": "stdout",
     "output_type": "stream",
     "text": [
      "Meilleurs paramètres: {'randomforestclassifier__max_features': 8, 'randomforestclassifier__n_estimators': 70, 'selectfrommodel__estimator__alpha': 0.11021304830970556}\n"
     ]
    }
   ],
   "source": [
    "#ce code a permis d'optimiser les parametres de RF pour obtenir 86% d'accuracy\n",
    "\n",
    "# Définir les hyperparamètres à optimiser pour le pipeline\n",
    "param_dist = {\n",
    "    'selectfrommodel__estimator__alpha': uniform(0.001, 0.7),  # Alpha pour Lasso\n",
    "    'randomforestclassifier__n_estimators': randint(50, 100),  # Nombre d'estimateurs pour RandomForest\n",
    "    'randomforestclassifier__max_features': randint(1,20)  # Max_features pour RandomForest\n",
    "}\n",
    "# Définir la fonction de score personnalisée pour l'accuracy\n",
    "accuracy_scorer = make_scorer(accuracy_score)\n",
    "# Création du pipeline pour RandomForestClassifier avec Lasso pour la sélection des caractéristiques\n",
    "rf_pipeline = make_pipeline(\n",
    "    SelectFromModel(Lasso(alpha=0.01)),\n",
    "    RandomForestClassifier(random_state=4)\n",
    ")\n",
    "# Utiliser RandomizedSearchCV pour l'optimisation avec l'accuracy comme métrique\n",
    "random_search = RandomizedSearchCV(rf_pipeline, param_distributions=param_dist, n_iter=50, cv=5, scoring=accuracy_scorer, random_state=42, error_score='raise')\n",
    "random_search.fit(X_train, y_train_encoded)  # Remplacez par vos données d'entraînement\n",
    "\n",
    "# Afficher les meilleurs paramètres\n",
    "print(\"Meilleurs paramètres:\", random_search.best_params_)\n",
    "#Meilleurs paramètres: {'randomforestclassifier__max_features': 8, 'randomforestclassifier__n_estimators': 70, 'selectfrommodel__estimator__alpha': 0.11021304830970556}\n",
    "###Meilleurs paramètres: {'randomforestclassifier__max_features': 19, 'randomforestclassifier__n_estimators': 72, 'selectfrommodel__estimator__alpha': 0.04165852851773962}\n",
    "##Meilleurs paramètres: {'randomforestclassifier__max_features': 130, 'randomforestclassifier__n_estimators': 163, 'selectfrommodel__estimator__alpha': 0.001}\n",
    "#Meilleurs paramètres: {'randomforestclassifier__max_features': 15, 'randomforestclassifier__n_estimators': 96, 'selectfrommodel__estimator__alpha': 0.06283860093330873}"
   ]
  },
  {
   "cell_type": "raw",
   "id": "4d3434f3-c41c-46ce-8d74-4451e1b91528",
   "metadata": {
    "scrolled": true
   },
   "source": [
    "# Espace de paramètres pour MLP\n",
    "mlp_param_dist = {\n",
    "    'mlpclassifier__hidden_layer_sizes': [(64, 64), (128, 64), (128, 128), (256, 256), (512, 256)],\n",
    "    #'mlpclassifier__activation': ['tanh', 'relu'],\n",
    "    #'mlpclassifier__solver': ['sgd', 'adam'],\n",
    "    'mlpclassifier__max_iter': randint(800, 1200),\n",
    "    'selectfrommodel__estimator__alpha': uniform(0.001, 0.7)\n",
    "}\n",
    "\n",
    "# Création du pipeline pour MLP avec Lasso pour la sélection des caractéristiques\n",
    "mlp_pipeline = make_pipeline(\n",
    "    SelectFromModel(Lasso(alpha=0.01)),\n",
    "    MLPClassifier()\n",
    ")\n",
    "# Utiliser RandomizedSearchCV pour l'optimisation avec l'accuracy comme métrique\n",
    "random_search = RandomizedSearchCV(mlp_pipeline, param_distributions=mlp_param_dist, n_iter=10, cv=3, scoring=\"accuracy\", random_state=42, error_score='raise')\n",
    "random_search.fit(X_train, y_train_encoded)  # Remplacez par vos données d'entraînement\n",
    "\n",
    "# Afficher les meilleurs paramètres\n",
    "print(\"Meilleurs paramètres:\", random_search.best_params_)\n",
    "#Meilleurs paramètres: {'mlpclassifier__activation': 'tanh', 'mlpclassifier__hidden_layer_sizes': (128, 128), 'mlpclassifier__max_iter': 1043, 'mlpclassifier__solver': 'adam', 'selectfrommodel__estimator__alpha': 0.047676289324798}\n",
    "##Meilleurs paramètres: {'mlpclassifier__hidden_layer_sizes': (128, 64), 'mlpclassifier__max_iter': 821, 'selectfrommodel__estimator__alpha': 0.005946413653802184}"
   ]
  },
  {
   "cell_type": "code",
   "execution_count": 23,
   "id": "1454f649-ffd8-4697-bab0-465a8328977b",
   "metadata": {},
   "outputs": [
    {
     "name": "stdout",
     "output_type": "stream",
     "text": [
      "Meilleurs paramètres: {'mlpclassifier__hidden_layer_sizes': (512, 256), 'mlpclassifier__max_iter': 794}\n"
     ]
    }
   ],
   "source": [
    "# Espace de paramètres pour MLP sans Lasso\n",
    "mlp_param_dist_ = {\n",
    "    'mlpclassifier__hidden_layer_sizes': [(64, 64), (128, 64), (128, 128), (256, 128), (512, 256), (256, 256), (64, 128)],\n",
    "    #'mlpclassifier__activation': ['tanh', 'relu'],\n",
    "    #'mlpclassifier__solver': ['sgd', 'adam'],\n",
    "    'mlpclassifier__max_iter': randint(500, 1400)\n",
    "    #'selectfrommodel__estimator__alpha': uniform(0.001, 0.1)\n",
    "}\n",
    "accuracy_scorer = make_scorer(accuracy_score)\n",
    "# Création du pipeline pour MLP avec Lasso pour la sélection des caractéristiques\n",
    "mlp_pipeline_ = make_pipeline(MLPClassifier())\n",
    "# Utiliser RandomizedSearchCV pour l'optimisation avec l'accuracy comme métrique\n",
    "random_search = RandomizedSearchCV(mlp_pipeline_, param_distributions=mlp_param_dist_, n_iter=25, cv=5, scoring=\"accuracy\", error_score='raise')\n",
    "random_search.fit(X_train, y_train_encoded)  # Remplacez par vos données d'entraînement\n",
    "\n",
    "# Afficher les meilleurs paramètres\n",
    "print(\"Meilleurs paramètres:\", random_search.best_params_)\n",
    "#Meilleurs paramètres: {'mlpclassifier__hidden_layer_sizes': (256, 128), 'mlpclassifier__max_iter': 828}\n",
    "##Meilleurs paramètres: {'mlpclassifier__activation': 'tanh', 'mlpclassifier__hidden_layer_sizes': (64, 64), 'mlpclassifier__max_iter': 899, 'mlpclassifier__solver': 'adam'}\n",
    "#Meilleurs paramètres: {'mlpclassifier__activation': 'relu', 'mlpclassifier__hidden_layer_sizes': (128, 128), 'mlpclassifier__max_iter': 989, 'mlpclassifier__solver': 'adam'}"
   ]
  },
  {
   "cell_type": "code",
   "execution_count": 43,
   "id": "e74b871b-78bb-48c6-8dc8-07294c3287a8",
   "metadata": {
    "scrolled": true
   },
   "outputs": [
    {
     "name": "stderr",
     "output_type": "stream",
     "text": [
      "C:\\Users\\astri\\anaconda3\\envs\\data-camp\\lib\\site-packages\\sklearn\\linear_model\\_coordinate_descent.py:589: ConvergenceWarning: Objective did not converge. You might want to increase the number of iterations. Duality gap: 81.57383728027344, tolerance: 0.10641550272703171\n",
      "  model = cd_fast.sparse_enet_coordinate_descent(\n",
      "C:\\Users\\astri\\anaconda3\\envs\\data-camp\\lib\\site-packages\\sklearn\\linear_model\\_coordinate_descent.py:589: ConvergenceWarning: Objective did not converge. You might want to increase the number of iterations. Duality gap: 85.49891662597656, tolerance: 0.10627187043428421\n",
      "  model = cd_fast.sparse_enet_coordinate_descent(\n",
      "C:\\Users\\astri\\anaconda3\\envs\\data-camp\\lib\\site-packages\\sklearn\\linear_model\\_coordinate_descent.py:589: ConvergenceWarning: Objective did not converge. You might want to increase the number of iterations. Duality gap: 81.99304962158203, tolerance: 0.10627187043428421\n",
      "  model = cd_fast.sparse_enet_coordinate_descent(\n",
      "C:\\Users\\astri\\anaconda3\\envs\\data-camp\\lib\\site-packages\\sklearn\\linear_model\\_coordinate_descent.py:589: ConvergenceWarning: Objective did not converge. You might want to increase the number of iterations. Duality gap: 97.67033386230469, tolerance: 0.10610197484493256\n",
      "  model = cd_fast.sparse_enet_coordinate_descent(\n",
      "C:\\Users\\astri\\anaconda3\\envs\\data-camp\\lib\\site-packages\\sklearn\\linear_model\\_coordinate_descent.py:589: ConvergenceWarning: Objective did not converge. You might want to increase the number of iterations. Duality gap: 133.2294464111328, tolerance: 0.10610199719667435\n",
      "  model = cd_fast.sparse_enet_coordinate_descent(\n",
      "C:\\Users\\astri\\anaconda3\\envs\\data-camp\\lib\\site-packages\\sklearn\\linear_model\\_coordinate_descent.py:589: ConvergenceWarning: Objective did not converge. You might want to increase the number of iterations. Duality gap: 0.20444020628929138, tolerance: 0.10610197484493256\n",
      "  model = cd_fast.sparse_enet_coordinate_descent(\n",
      "C:\\Users\\astri\\anaconda3\\envs\\data-camp\\lib\\site-packages\\sklearn\\linear_model\\_coordinate_descent.py:589: ConvergenceWarning: Objective did not converge. You might want to increase the number of iterations. Duality gap: 0.8541607856750488, tolerance: 0.10627187043428421\n",
      "  model = cd_fast.sparse_enet_coordinate_descent(\n",
      "C:\\Users\\astri\\anaconda3\\envs\\data-camp\\lib\\site-packages\\sklearn\\linear_model\\_coordinate_descent.py:589: ConvergenceWarning: Objective did not converge. You might want to increase the number of iterations. Duality gap: 0.7301377654075623, tolerance: 0.10610197484493256\n",
      "  model = cd_fast.sparse_enet_coordinate_descent(\n",
      "C:\\Users\\astri\\anaconda3\\envs\\data-camp\\lib\\site-packages\\sklearn\\linear_model\\_coordinate_descent.py:589: ConvergenceWarning: Objective did not converge. You might want to increase the number of iterations. Duality gap: 0.747418999671936, tolerance: 0.10610199719667435\n",
      "  model = cd_fast.sparse_enet_coordinate_descent(\n",
      "C:\\Users\\astri\\anaconda3\\envs\\data-camp\\lib\\site-packages\\sklearn\\linear_model\\_coordinate_descent.py:589: ConvergenceWarning: Objective did not converge. You might want to increase the number of iterations. Duality gap: 0.2746017575263977, tolerance: 0.10610197484493256\n",
      "  model = cd_fast.sparse_enet_coordinate_descent(\n",
      "C:\\Users\\astri\\anaconda3\\envs\\data-camp\\lib\\site-packages\\sklearn\\linear_model\\_coordinate_descent.py:589: ConvergenceWarning: Objective did not converge. You might want to increase the number of iterations. Duality gap: 18.358905792236328, tolerance: 0.10641550272703171\n",
      "  model = cd_fast.sparse_enet_coordinate_descent(\n",
      "C:\\Users\\astri\\anaconda3\\envs\\data-camp\\lib\\site-packages\\sklearn\\linear_model\\_coordinate_descent.py:589: ConvergenceWarning: Objective did not converge. You might want to increase the number of iterations. Duality gap: 10.611003875732422, tolerance: 0.10627187043428421\n",
      "  model = cd_fast.sparse_enet_coordinate_descent(\n",
      "C:\\Users\\astri\\anaconda3\\envs\\data-camp\\lib\\site-packages\\sklearn\\linear_model\\_coordinate_descent.py:589: ConvergenceWarning: Objective did not converge. You might want to increase the number of iterations. Duality gap: 54.36702346801758, tolerance: 0.10627187043428421\n",
      "  model = cd_fast.sparse_enet_coordinate_descent(\n",
      "C:\\Users\\astri\\anaconda3\\envs\\data-camp\\lib\\site-packages\\sklearn\\linear_model\\_coordinate_descent.py:589: ConvergenceWarning: Objective did not converge. You might want to increase the number of iterations. Duality gap: 33.869232177734375, tolerance: 0.10610197484493256\n",
      "  model = cd_fast.sparse_enet_coordinate_descent(\n",
      "C:\\Users\\astri\\anaconda3\\envs\\data-camp\\lib\\site-packages\\sklearn\\linear_model\\_coordinate_descent.py:589: ConvergenceWarning: Objective did not converge. You might want to increase the number of iterations. Duality gap: 56.953189849853516, tolerance: 0.10610199719667435\n",
      "  model = cd_fast.sparse_enet_coordinate_descent(\n",
      "C:\\Users\\astri\\anaconda3\\envs\\data-camp\\lib\\site-packages\\sklearn\\linear_model\\_coordinate_descent.py:589: ConvergenceWarning: Objective did not converge. You might want to increase the number of iterations. Duality gap: 0.3106729984283447, tolerance: 0.10627187043428421\n",
      "  model = cd_fast.sparse_enet_coordinate_descent(\n",
      "C:\\Users\\astri\\anaconda3\\envs\\data-camp\\lib\\site-packages\\sklearn\\linear_model\\_coordinate_descent.py:589: ConvergenceWarning: Objective did not converge. You might want to increase the number of iterations. Duality gap: 3.3321378231048584, tolerance: 0.10627187043428421\n",
      "  model = cd_fast.sparse_enet_coordinate_descent(\n",
      "C:\\Users\\astri\\anaconda3\\envs\\data-camp\\lib\\site-packages\\sklearn\\linear_model\\_coordinate_descent.py:589: ConvergenceWarning: Objective did not converge. You might want to increase the number of iterations. Duality gap: 1.8758435249328613, tolerance: 0.10610197484493256\n",
      "  model = cd_fast.sparse_enet_coordinate_descent(\n",
      "C:\\Users\\astri\\anaconda3\\envs\\data-camp\\lib\\site-packages\\sklearn\\linear_model\\_coordinate_descent.py:589: ConvergenceWarning: Objective did not converge. You might want to increase the number of iterations. Duality gap: 0.9685800075531006, tolerance: 0.10610199719667435\n",
      "  model = cd_fast.sparse_enet_coordinate_descent(\n",
      "C:\\Users\\astri\\anaconda3\\envs\\data-camp\\lib\\site-packages\\sklearn\\linear_model\\_coordinate_descent.py:589: ConvergenceWarning: Objective did not converge. You might want to increase the number of iterations. Duality gap: 3.4598658084869385, tolerance: 0.10641550272703171\n",
      "  model = cd_fast.sparse_enet_coordinate_descent(\n",
      "C:\\Users\\astri\\anaconda3\\envs\\data-camp\\lib\\site-packages\\sklearn\\linear_model\\_coordinate_descent.py:589: ConvergenceWarning: Objective did not converge. You might want to increase the number of iterations. Duality gap: 6.0352020263671875, tolerance: 0.10627187043428421\n",
      "  model = cd_fast.sparse_enet_coordinate_descent(\n",
      "C:\\Users\\astri\\anaconda3\\envs\\data-camp\\lib\\site-packages\\sklearn\\linear_model\\_coordinate_descent.py:589: ConvergenceWarning: Objective did not converge. You might want to increase the number of iterations. Duality gap: 7.1258320808410645, tolerance: 0.10627187043428421\n",
      "  model = cd_fast.sparse_enet_coordinate_descent(\n",
      "C:\\Users\\astri\\anaconda3\\envs\\data-camp\\lib\\site-packages\\sklearn\\linear_model\\_coordinate_descent.py:589: ConvergenceWarning: Objective did not converge. You might want to increase the number of iterations. Duality gap: 12.230088233947754, tolerance: 0.10610197484493256\n",
      "  model = cd_fast.sparse_enet_coordinate_descent(\n",
      "C:\\Users\\astri\\anaconda3\\envs\\data-camp\\lib\\site-packages\\sklearn\\linear_model\\_coordinate_descent.py:589: ConvergenceWarning: Objective did not converge. You might want to increase the number of iterations. Duality gap: 13.048624038696289, tolerance: 0.10610199719667435\n",
      "  model = cd_fast.sparse_enet_coordinate_descent(\n",
      "C:\\Users\\astri\\anaconda3\\envs\\data-camp\\lib\\site-packages\\sklearn\\neural_network\\_multilayer_perceptron.py:691: ConvergenceWarning: Stochastic Optimizer: Maximum iterations (531) reached and the optimization hasn't converged yet.\n",
      "  warnings.warn(\n",
      "C:\\Users\\astri\\anaconda3\\envs\\data-camp\\lib\\site-packages\\sklearn\\linear_model\\_coordinate_descent.py:589: ConvergenceWarning: Objective did not converge. You might want to increase the number of iterations. Duality gap: 0.4942687153816223, tolerance: 0.10627187043428421\n",
      "  model = cd_fast.sparse_enet_coordinate_descent(\n",
      "C:\\Users\\astri\\anaconda3\\envs\\data-camp\\lib\\site-packages\\sklearn\\linear_model\\_coordinate_descent.py:589: ConvergenceWarning: Objective did not converge. You might want to increase the number of iterations. Duality gap: 0.5011577010154724, tolerance: 0.10610197484493256\n",
      "  model = cd_fast.sparse_enet_coordinate_descent(\n",
      "C:\\Users\\astri\\anaconda3\\envs\\data-camp\\lib\\site-packages\\sklearn\\linear_model\\_coordinate_descent.py:589: ConvergenceWarning: Objective did not converge. You might want to increase the number of iterations. Duality gap: 0.6455689668655396, tolerance: 0.10610199719667435\n",
      "  model = cd_fast.sparse_enet_coordinate_descent(\n",
      "C:\\Users\\astri\\anaconda3\\envs\\data-camp\\lib\\site-packages\\sklearn\\linear_model\\_coordinate_descent.py:589: ConvergenceWarning: Objective did not converge. You might want to increase the number of iterations. Duality gap: 0.10732228308916092, tolerance: 0.10641550272703171\n",
      "  model = cd_fast.sparse_enet_coordinate_descent(\n",
      "C:\\Users\\astri\\anaconda3\\envs\\data-camp\\lib\\site-packages\\sklearn\\linear_model\\_coordinate_descent.py:589: ConvergenceWarning: Objective did not converge. You might want to increase the number of iterations. Duality gap: 0.4710308015346527, tolerance: 0.10627187043428421\n",
      "  model = cd_fast.sparse_enet_coordinate_descent(\n",
      "C:\\Users\\astri\\anaconda3\\envs\\data-camp\\lib\\site-packages\\sklearn\\linear_model\\_coordinate_descent.py:589: ConvergenceWarning: Objective did not converge. You might want to increase the number of iterations. Duality gap: 3.248234272003174, tolerance: 0.10627187043428421\n",
      "  model = cd_fast.sparse_enet_coordinate_descent(\n",
      "C:\\Users\\astri\\anaconda3\\envs\\data-camp\\lib\\site-packages\\sklearn\\linear_model\\_coordinate_descent.py:589: ConvergenceWarning: Objective did not converge. You might want to increase the number of iterations. Duality gap: 1.48968505859375, tolerance: 0.10610197484493256\n",
      "  model = cd_fast.sparse_enet_coordinate_descent(\n",
      "C:\\Users\\astri\\anaconda3\\envs\\data-camp\\lib\\site-packages\\sklearn\\linear_model\\_coordinate_descent.py:589: ConvergenceWarning: Objective did not converge. You might want to increase the number of iterations. Duality gap: 1.5663374662399292, tolerance: 0.10610199719667435\n",
      "  model = cd_fast.sparse_enet_coordinate_descent(\n"
     ]
    },
    {
     "name": "stdout",
     "output_type": "stream",
     "text": [
      "Meilleurs paramètres: {'mlpclassifier__hidden_layer_sizes': (512, 256), 'mlpclassifier__max_iter': 545, 'selectfrommodel__estimator__alpha': 0.16899652074171115}\n"
     ]
    }
   ],
   "source": [
    "# Espace de paramètres pour MLP sans Lasso\n",
    "mlp_param_dist_ = {\n",
    "    'mlpclassifier__hidden_layer_sizes': [(64, 64), (128, 64), (128, 128), (256, 128), (512, 256), (256, 256), (64, 128)],\n",
    "    #'mlpclassifier__activation': ['tanh', 'relu'],\n",
    "    #'mlpclassifier__solver': ['sgd', 'adam'],\n",
    "    'mlpclassifier__max_iter': randint(500, 1400),\n",
    "    'selectfrommodel__estimator__alpha': uniform(0.001, 0.7)\n",
    "}\n",
    "accuracy_scorer = make_scorer(accuracy_score)\n",
    "# Création du pipeline pour MLP avec Lasso pour la sélection des caractéristiques\n",
    "mlp_pipeline_ = make_pipeline(\n",
    "    SelectFromModel(Lasso(alpha=0.01)),\n",
    "    MLPClassifier())\n",
    "# Utiliser RandomizedSearchCV pour l'optimisation avec l'accuracy comme métrique\n",
    "random_search = RandomizedSearchCV(mlp_pipeline_, param_distributions=mlp_param_dist_, n_iter=50, cv=5, scoring=\"accuracy\", error_score='raise')\n",
    "random_search.fit(X_train, y_train_encoded)  # Remplacez par vos données d'entraînement\n",
    "\n",
    "# Afficher les meilleurs paramètres\n",
    "print(\"Meilleurs paramètres:\", random_search.best_params_)\n",
    "#Meilleurs paramètres: {'mlpclassifier__hidden_layer_sizes': (512, 256), 'mlpclassifier__max_iter': 545, 'selectfrommodel__estimator__alpha': 0.16899652074171115}"
   ]
  },
  {
   "cell_type": "code",
   "execution_count": 121,
   "id": "6950fa1b-c9bc-471e-9ce0-a0b1ace4268e",
   "metadata": {},
   "outputs": [
    {
     "name": "stdout",
     "output_type": "stream",
     "text": [
      "Meilleurs paramètres: {'mlpclassifier__hidden_layer_sizes': (512, 256), 'mlpclassifier__max_iter': 839, 'selectfrommodel__estimator__max_features': 27, 'selectfrommodel__estimator__n_estimators': 58}\n"
     ]
    }
   ],
   "source": [
    "from sklearn.feature_selection import SelectFromModel\n",
    "# Espace de paramètres pour MLP sans Lasso\n",
    "mlp_param_dist_ = {\n",
    "    'selectfrommodel__estimator__n_estimators': randint(30, 120),\n",
    "    'selectfrommodel__estimator__max_features': randint(1, 30),\n",
    "    'mlpclassifier__hidden_layer_sizes': [(128, 64), (128, 128), (256, 128), (512, 256), (256, 256), (64, 128), (64, 64) ],\n",
    "    #'mlpclassifier__activation': ['tanh', 'relu'],\n",
    "    #'mlpclassifier__solver': ['sgd', 'adam'],\n",
    "    'mlpclassifier__max_iter': randint(700, 1300)\n",
    "}\n",
    "\n",
    "accuracy_scorer = make_scorer(accuracy_score)\n",
    "# Création du pipeline pour MLP avec Lasso pour la sélection des caractéristiques\n",
    "mlp_pipeline_ = make_pipeline(\n",
    "    SelectFromModel(estimator=RandomForestClassifier(random_state=4)),\n",
    "    MLPClassifier()\n",
    ")\n",
    "# Utiliser RandomizedSearchCV pour l'optimisation avec l'accuracy comme métrique\n",
    "random_search = RandomizedSearchCV(mlp_pipeline_, param_distributions=mlp_param_dist_, n_iter=25, cv=5, scoring=accuracy_scorer, error_score='raise')\n",
    "random_search.fit(X_train, y_train_encoded)  # Remplacez par vos données d'entraînement\n",
    "\n",
    "# Afficher les meilleurs paramètres\n",
    "print(\"Meilleurs paramètres:\", random_search.best_params_)\n",
    "#Meilleurs paramètres: {'mlpclassifier__hidden_layer_sizes': (512, 256), 'mlpclassifier__max_iter': 839, 'selectfrommodel__estimator__max_features': 27, 'selectfrommodel__estimator__n_estimators': 58}\n",
    "####Meilleurs paramètres: {'mlpclassifier__hidden_layer_sizes': (512, 256), 'mlpclassifier__max_iter': 1264, 'selectfrommodel__estimator__max_features': 13, 'selectfrommodel__estimator__n_estimators': 62}\n",
    "###Meilleurs paramètres: {'mlpclassifier__hidden_layer_sizes': (256, 128), 'mlpclassifier__max_iter': 865, 'selectfrommodel__estimator__max_features': 13, 'selectfrommodel__estimator__n_estimators': 74}\n",
    "##Meilleurs paramètres: {'mlpclassifier__activation': 'tanh', 'mlpclassifier__hidden_layer_sizes': (64, 64), 'mlpclassifier__max_iter': 899, 'mlpclassifier__solver': 'adam'}\n",
    "#Meilleurs paramètres: {'mlpclassifier__activation': 'relu', 'mlpclassifier__hidden_layer_sizes': (128, 128), 'mlpclassifier__max_iter': 989, 'mlpclassifier__solver': 'adam'}\n"
   ]
  },
  {
   "cell_type": "raw",
   "id": "2fc4b1e8-24f8-4b26-9c9f-da96af0061df",
   "metadata": {
    "scrolled": true
   },
   "source": [
    "from sklearn.ensemble import GradientBoostingClassifier\n",
    "\n",
    "gb_param_dist = {\n",
    "    'selectfrommodel__estimator__alpha': uniform(0.001, 0.7),\n",
    "    'gradientboostingclassifier__n_estimators': randint(50, 100),\n",
    "    'gradientboostingclassifier__learning_rate': uniform(0.001, 0.6),\n",
    "    'gradientboostingclassifier__max_depth': randint(1, 20),\n",
    "    # Ajoutez d'autres paramètres si nécessaire\n",
    "}\n",
    "accuracy_scorer = make_scorer(accuracy_score)\n",
    "\n",
    "gb_pipeline = make_pipeline(\n",
    "    SelectFromModel(Lasso(alpha=0.01)),\n",
    "    GradientBoostingClassifier(random_state=4)\n",
    ")\n",
    "# Utiliser RandomizedSearchCV pour l'optimisation avec l'accuracy comme métrique\n",
    "random_search = RandomizedSearchCV(gb_pipeline, param_distributions=gb_param_dist, n_iter=10, cv=3, scoring=accuracy_scorer, error_score='raise')\n",
    "random_search.fit(X_train, y_train_encoded)  # Remplacez par vos données d'entraînement\n",
    "\n",
    "# Afficher les meilleurs paramètres\n",
    "print(\"Meilleurs paramètres:\", random_search.best_params_)\n",
    "\n",
    "#Meilleurs paramètres: {'gradientboostingclassifier__learning_rate': 0.3225152497855646, 'gradientboostingclassifier__max_depth': 5, 'gradientboostingclassifier__n_estimators': 81, 'selectfrommodel__estimator__alpha': 0.2169988938150142}"
   ]
  },
  {
   "cell_type": "code",
   "execution_count": null,
   "id": "4c3cb38d-6ae2-4df8-a476-c305280c601a",
   "metadata": {},
   "outputs": [],
   "source": []
  },
  {
   "cell_type": "code",
   "execution_count": null,
   "id": "7b58619b-dd8d-47e2-8079-72fa63d77368",
   "metadata": {},
   "outputs": [],
   "source": [
    "pip install scikit-optimize"
   ]
  },
  {
   "cell_type": "code",
   "execution_count": null,
   "id": "f2759860-7755-4ab3-af48-91922569dc3e",
   "metadata": {},
   "outputs": [],
   "source": [
    "param_space = {\n",
    "    'selectfrommodel__estimator__alpha': (0.01, 1.0, 'log-uniform'),\n",
    "    'randomforestclassifier__n_estimators': randint(100, 200),  # Utilisez 'uniform' pour une distribution uniforme\n",
    "    'randomforestclassifier__max_depth': (1, 20),\n",
    "    'randomforestclassifier__min_samples_split': (0.1, 1.0),\n",
    "    'randomforestclassifier__min_samples_leaf': (0.1, 0.5, 'uniform'),\n",
    "}\n",
    "\n",
    "# Utiliser BayesSearchCV pour l'optimisation avec l'accuracy comme métrique\n",
    "rf_pipeline = make_pipeline(\n",
    "    SelectFromModel(Lasso(alpha=0.01)),\n",
    "    RandomForestClassifier(random_state=4)\n",
    ")\n",
    "accuracy_scorer = make_scorer(accuracy_score)\n",
    "Bayes_search = BayesSearchCV(rf_pipeline, search_spaces=param_dist, n_iter=10, cv=3, scoring=accuracy_scorer, random_state=42)\n",
    "Bayes_search.fit(X_train, y_train)  # Remplacez par vos données d'entraînement\n",
    "\n",
    "# Afficher les meilleurs paramètres\n",
    "print(\"Meilleurs paramètres:\", Bayes_search.best_params_)"
   ]
  },
  {
   "cell_type": "code",
   "execution_count": null,
   "id": "03efc3a5-ef8b-4a89-ba1a-204dcd41bc35",
   "metadata": {},
   "outputs": [],
   "source": [
    "from skopt import BayesSearchCV\n",
    "\n",
    "param_space = {\n",
    "    'selectfrommodel__estimator__alpha': (0.01, 1.0, 'log-uniform'),\n",
    "    'randomforestclassifier__n_estimators': randint(100, 200),  # Utilisez 'uniform' pour une distribution uniforme\n",
    "    'randomforestclassifier__max_depth': (1, 20),\n",
    "    'randomforestclassifier__min_samples_split': (0.1, 1.0),\n",
    "    'randomforestclassifier__min_samples_leaf': (0.1, 0.5, 'uniform'),\n",
    "}\n",
    "\n",
    "# Utiliser BayesSearchCV pour l'optimisation avec l'accuracy comme métrique\n",
    "rf_pipeline = make_pipeline(\n",
    "    SelectFromModel(Lasso(alpha=0.01)),\n",
    "    RandomForestClassifier(random_state=4)\n",
    ")\n",
    "accuracy_scorer = make_scorer(accuracy_score)\n",
    "Bayes_search = BayesSearchCV(rf_pipeline, search_spaces=param_dist, n_iter=10, cv=3, scoring=accuracy_scorer, random_state=42)\n",
    "Bayes_search.fit(X_train, y_train)  # Remplacez par vos données d'entraînement\n",
    "\n",
    "# Afficher les meilleurs paramètres\n",
    "print(\"Meilleurs paramètres:\", Bayes_search.best_params_)"
   ]
  },
  {
   "cell_type": "code",
   "execution_count": null,
   "id": "4918bec4-5cec-4e38-a214-a743572d276e",
   "metadata": {},
   "outputs": [],
   "source": []
  },
  {
   "cell_type": "code",
   "execution_count": null,
   "id": "b561d915-d11e-43ff-88b1-61372a4e4c12",
   "metadata": {},
   "outputs": [],
   "source": []
  },
  {
   "cell_type": "code",
   "execution_count": null,
   "id": "c3295d30-b936-45eb-95a7-7a0955190117",
   "metadata": {},
   "outputs": [],
   "source": []
  },
  {
   "cell_type": "code",
   "execution_count": null,
   "id": "e92d7af8-6c9e-4c83-bb0b-f426b3ae9861",
   "metadata": {},
   "outputs": [],
   "source": []
  },
  {
   "cell_type": "code",
   "execution_count": null,
   "id": "ca738749-8937-42b4-b769-d6e8fb3fd8b5",
   "metadata": {},
   "outputs": [],
   "source": []
  },
  {
   "cell_type": "code",
   "execution_count": null,
   "id": "fecc4cfb-e1e2-4bd1-abb2-71cc79d8fc85",
   "metadata": {},
   "outputs": [],
   "source": []
  }
 ],
 "metadata": {
  "kernelspec": {
   "display_name": "Python 3 (ipykernel)",
   "language": "python",
   "name": "python3"
  },
  "language_info": {
   "codemirror_mode": {
    "name": "ipython",
    "version": 3
   },
   "file_extension": ".py",
   "mimetype": "text/x-python",
   "name": "python",
   "nbconvert_exporter": "python",
   "pygments_lexer": "ipython3",
   "version": "3.9.13"
  }
 },
 "nbformat": 4,
 "nbformat_minor": 5
}
